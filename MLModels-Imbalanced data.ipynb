{
 "cells": [
  {
   "cell_type": "code",
   "execution_count": 2,
   "id": "39b78f9e",
   "metadata": {},
   "outputs": [
    {
     "name": "stderr",
     "output_type": "stream",
     "text": [
      "2024-02-17 20:25:42.354740: I tensorflow/core/platform/cpu_feature_guard.cc:182] This TensorFlow binary is optimized to use available CPU instructions in performance-critical operations.\n",
      "To enable the following instructions: AVX2 FMA, in other operations, rebuild TensorFlow with the appropriate compiler flags.\n"
     ]
    }
   ],
   "source": [
    "import pandas as pd\n",
    "import numpy as np\n",
    "from sklearn.model_selection import train_test_split\n",
    "from sklearn.linear_model import LogisticRegression\n",
    "from sklearn.metrics import accuracy_score, classification_report\n",
    "from sklearn.ensemble import RandomForestClassifier\n",
    "from sklearn.model_selection import GridSearchCV\n",
    "from sklearn.svm import SVC\n",
    "import tsgm\n",
    "from tensorflow.keras.optimizers import Adam\n",
    "\n",
    "from keras.models import Sequential\n",
    "from keras.layers import LSTM, Dense\n",
    "\n",
    "\n"
   ]
  },
  {
   "cell_type": "code",
   "execution_count": 8,
   "id": "68d83ed9",
   "metadata": {},
   "outputs": [],
   "source": [
    "from sklearn.utils import resample\n",
    "from sklearn.utils import shuffle\n"
   ]
  },
  {
   "cell_type": "code",
   "execution_count": 6,
   "id": "be27e30d",
   "metadata": {},
   "outputs": [
    {
     "data": {
      "text/html": [
       "<div>\n",
       "<style scoped>\n",
       "    .dataframe tbody tr th:only-of-type {\n",
       "        vertical-align: middle;\n",
       "    }\n",
       "\n",
       "    .dataframe tbody tr th {\n",
       "        vertical-align: top;\n",
       "    }\n",
       "\n",
       "    .dataframe thead th {\n",
       "        text-align: right;\n",
       "    }\n",
       "</style>\n",
       "<table border=\"1\" class=\"dataframe\">\n",
       "  <thead>\n",
       "    <tr style=\"text-align: right;\">\n",
       "      <th></th>\n",
       "      <th>AmplitudePrimary</th>\n",
       "      <th>AmplitudeSecondary</th>\n",
       "      <th>Latency</th>\n",
       "      <th>CorrectiveSaccade</th>\n",
       "      <th>Normal</th>\n",
       "    </tr>\n",
       "  </thead>\n",
       "  <tbody>\n",
       "    <tr>\n",
       "      <th>0</th>\n",
       "      <td>7.905335</td>\n",
       "      <td>0.907229</td>\n",
       "      <td>0.124998</td>\n",
       "      <td>7</td>\n",
       "      <td>0</td>\n",
       "    </tr>\n",
       "    <tr>\n",
       "      <th>1</th>\n",
       "      <td>17.381435</td>\n",
       "      <td>0.563108</td>\n",
       "      <td>0.341670</td>\n",
       "      <td>13</td>\n",
       "      <td>0</td>\n",
       "    </tr>\n",
       "    <tr>\n",
       "      <th>2</th>\n",
       "      <td>29.415535</td>\n",
       "      <td>1.097195</td>\n",
       "      <td>0.308346</td>\n",
       "      <td>16</td>\n",
       "      <td>0</td>\n",
       "    </tr>\n",
       "    <tr>\n",
       "      <th>3</th>\n",
       "      <td>10.173487</td>\n",
       "      <td>1.182019</td>\n",
       "      <td>0.175026</td>\n",
       "      <td>9</td>\n",
       "      <td>0</td>\n",
       "    </tr>\n",
       "    <tr>\n",
       "      <th>4</th>\n",
       "      <td>6.801426</td>\n",
       "      <td>7.733378</td>\n",
       "      <td>0.391700</td>\n",
       "      <td>28</td>\n",
       "      <td>0</td>\n",
       "    </tr>\n",
       "    <tr>\n",
       "      <th>...</th>\n",
       "      <td>...</td>\n",
       "      <td>...</td>\n",
       "      <td>...</td>\n",
       "      <td>...</td>\n",
       "      <td>...</td>\n",
       "    </tr>\n",
       "    <tr>\n",
       "      <th>187</th>\n",
       "      <td>3.948713</td>\n",
       "      <td>3.948713</td>\n",
       "      <td>0.033335</td>\n",
       "      <td>16</td>\n",
       "      <td>1</td>\n",
       "    </tr>\n",
       "    <tr>\n",
       "      <th>188</th>\n",
       "      <td>14.329194</td>\n",
       "      <td>3.160185</td>\n",
       "      <td>0.125025</td>\n",
       "      <td>6</td>\n",
       "      <td>1</td>\n",
       "    </tr>\n",
       "    <tr>\n",
       "      <th>189</th>\n",
       "      <td>19.042962</td>\n",
       "      <td>3.035957</td>\n",
       "      <td>0.525034</td>\n",
       "      <td>5</td>\n",
       "      <td>1</td>\n",
       "    </tr>\n",
       "    <tr>\n",
       "      <th>190</th>\n",
       "      <td>1.762336</td>\n",
       "      <td>2.942543</td>\n",
       "      <td>0.325038</td>\n",
       "      <td>15</td>\n",
       "      <td>1</td>\n",
       "    </tr>\n",
       "    <tr>\n",
       "      <th>191</th>\n",
       "      <td>31.529303</td>\n",
       "      <td>1.850806</td>\n",
       "      <td>0.508392</td>\n",
       "      <td>20</td>\n",
       "      <td>1</td>\n",
       "    </tr>\n",
       "  </tbody>\n",
       "</table>\n",
       "<p>192 rows × 5 columns</p>\n",
       "</div>"
      ],
      "text/plain": [
       "     AmplitudePrimary  AmplitudeSecondary   Latency  CorrectiveSaccade  Normal\n",
       "0            7.905335            0.907229  0.124998                  7       0\n",
       "1           17.381435            0.563108  0.341670                 13       0\n",
       "2           29.415535            1.097195  0.308346                 16       0\n",
       "3           10.173487            1.182019  0.175026                  9       0\n",
       "4            6.801426            7.733378  0.391700                 28       0\n",
       "..                ...                 ...       ...                ...     ...\n",
       "187          3.948713            3.948713  0.033335                 16       1\n",
       "188         14.329194            3.160185  0.125025                  6       1\n",
       "189         19.042962            3.035957  0.525034                  5       1\n",
       "190          1.762336            2.942543  0.325038                 15       1\n",
       "191         31.529303            1.850806  0.508392                 20       1\n",
       "\n",
       "[192 rows x 5 columns]"
      ]
     },
     "metadata": {},
     "output_type": "display_data"
    },
    {
     "data": {
      "text/plain": [
       "Normal\n",
       "0    137\n",
       "1     55\n",
       "Name: count, dtype: int64"
      ]
     },
     "execution_count": 6,
     "metadata": {},
     "output_type": "execute_result"
    }
   ],
   "source": [
    "df = pd.read_csv(\"TestDataCompiled.csv\")\n",
    "df.columns = ['AmplitudePrimary', 'AmplitudeSecondary', 'Latency', \"CorrectiveSaccade\", \"Normal\"]\n",
    "display(df)\n",
    "df[\"Normal\"].value_counts()\n",
    "\n"
   ]
  },
  {
   "cell_type": "markdown",
   "id": "81402f19",
   "metadata": {},
   "source": [
    "# No Data Augmentation"
   ]
  },
  {
   "cell_type": "code",
   "execution_count": 7,
   "id": "1c05b41b",
   "metadata": {},
   "outputs": [],
   "source": [
    "y = df.Normal\n",
    "X = df.drop('Normal', axis=1)\n",
    "\n",
    "X_train, X_test, y_train, y_test = train_test_split(X, y, test_size=0.2, random_state=42, stratify = y)"
   ]
  },
  {
   "cell_type": "markdown",
   "id": "ae86ebb8",
   "metadata": {},
   "source": [
    "### Logsitic Regression"
   ]
  },
  {
   "cell_type": "code",
   "execution_count": 8,
   "id": "25264ed3",
   "metadata": {},
   "outputs": [
    {
     "name": "stdout",
     "output_type": "stream",
     "text": [
      "Accuracy: 0.717948717948718\n",
      "Classification Report:\n",
      "              precision    recall  f1-score   support\n",
      "\n",
      "           0       0.73      0.96      0.83        28\n",
      "           1       0.50      0.09      0.15        11\n",
      "\n",
      "    accuracy                           0.72        39\n",
      "   macro avg       0.61      0.53      0.49        39\n",
      "weighted avg       0.66      0.72      0.64        39\n",
      "\n"
     ]
    }
   ],
   "source": [
    "model = LogisticRegression()\n",
    "\n",
    "# Train the model\n",
    "model.fit(X_train, y_train)\n",
    "\n",
    "# Predict on the test set\n",
    "y_pred = model.predict(X_test)\n",
    "\n",
    "# Calculate accuracy\n",
    "accuracy = accuracy_score(y_test, y_pred)\n",
    "print(\"Accuracy:\", accuracy)\n",
    "\n",
    "# Print classification report\n",
    "print(\"Classification Report:\")\n",
    "print(classification_report(y_test, y_pred))"
   ]
  },
  {
   "cell_type": "code",
   "execution_count": 11,
   "id": "306f0b89",
   "metadata": {},
   "outputs": [
    {
     "data": {
      "text/plain": [
       "array([0, 0, 0, 0, 0, 0, 0, 0, 0, 0, 0, 0, 0, 0, 0, 0, 0, 0, 0, 0, 1, 0,\n",
       "       0, 0, 1, 0, 0, 0, 0, 0, 0, 0, 0, 0, 0, 0, 0, 0, 0])"
      ]
     },
     "metadata": {},
     "output_type": "display_data"
    },
    {
     "data": {
      "text/plain": [
       "141    1\n",
       "21     0\n",
       "118    0\n",
       "63     0\n",
       "139    1\n",
       "99     0\n",
       "145    1\n",
       "92     0\n",
       "2      0\n",
       "128    0\n",
       "29     0\n",
       "37     0\n",
       "52     0\n",
       "126    0\n",
       "32     0\n",
       "71     0\n",
       "116    0\n",
       "74     0\n",
       "102    0\n",
       "131    0\n",
       "103    0\n",
       "163    1\n",
       "23     0\n",
       "107    0\n",
       "173    1\n",
       "14     0\n",
       "136    0\n",
       "1      0\n",
       "106    0\n",
       "87     0\n",
       "59     0\n",
       "183    1\n",
       "150    1\n",
       "20     0\n",
       "189    1\n",
       "121    0\n",
       "162    1\n",
       "137    1\n",
       "175    1\n",
       "Name: Normal, dtype: int64"
      ]
     },
     "metadata": {},
     "output_type": "display_data"
    },
    {
     "name": "stdout",
     "output_type": "stream",
     "text": [
      "39\n"
     ]
    }
   ],
   "source": [
    "display(y_pred)\n",
    "display(y_test)\n",
    "print(len(y_pred))"
   ]
  },
  {
   "cell_type": "markdown",
   "id": "c5e72667",
   "metadata": {},
   "source": [
    "### Random Forest"
   ]
  },
  {
   "cell_type": "code",
   "execution_count": 16,
   "id": "fda3ae25",
   "metadata": {},
   "outputs": [
    {
     "name": "stdout",
     "output_type": "stream",
     "text": [
      "Accuracy: 0.7692307692307693\n",
      "Classification Report:\n",
      "              precision    recall  f1-score   support\n",
      "\n",
      "           0       0.79      0.93      0.85        28\n",
      "           1       0.67      0.36      0.47        11\n",
      "\n",
      "    accuracy                           0.77        39\n",
      "   macro avg       0.73      0.65      0.66        39\n",
      "weighted avg       0.75      0.77      0.74        39\n",
      "\n"
     ]
    }
   ],
   "source": [
    "model = RandomForestClassifier(random_state=42, max_depth = None, n_estimators = 300, min_samples_leaf = 4, min_samples_split = 10)\n",
    "\n",
    "# Train the model\n",
    "model.fit(X_train, y_train)\n",
    "\n",
    "# Predict on the test set\n",
    "y_pred = model.predict(X_test)\n",
    "\n",
    "# Calculate accuracy\n",
    "accuracy = accuracy_score(y_test, y_pred)\n",
    "print(\"Accuracy:\", accuracy)\n",
    "\n",
    "# Print classification report\n",
    "print(\"Classification Report:\")\n",
    "print(classification_report(y_test, y_pred))"
   ]
  },
  {
   "cell_type": "code",
   "execution_count": 14,
   "id": "bde0098a",
   "metadata": {},
   "outputs": [
    {
     "name": "stdout",
     "output_type": "stream",
     "text": [
      "Best Parameters: {'max_depth': None, 'min_samples_leaf': 4, 'min_samples_split': 10, 'n_estimators': 300}\n",
      "Best Score: 0.7053763440860215\n"
     ]
    }
   ],
   "source": [
    "param_grid = {\n",
    "    'n_estimators': [100, 200, 300],  # Number of trees in the forest\n",
    "    'max_depth': [None, 10, 20, 30],   # Maximum depth of the trees\n",
    "    'min_samples_split': [2, 5, 10],   # Minimum number of samples required to split a node\n",
    "    'min_samples_leaf': [1, 2, 4]      # Minimum number of samples required at each leaf node\n",
    "}\n",
    "\n",
    "# Initialize the Random Forest model\n",
    "rf = RandomForestClassifier(random_state=42)\n",
    "\n",
    "# Perform grid search with 5-fold cross-validation\n",
    "grid_search = GridSearchCV(estimator=rf, param_grid=param_grid, cv=5, scoring='accuracy')\n",
    "\n",
    "# Fit the grid search to the training data\n",
    "grid_search.fit(X_train, y_train)\n",
    "\n",
    "# Get the best parameters and the best score\n",
    "best_params = grid_search.best_params_\n",
    "best_score = grid_search.best_score_\n",
    "\n",
    "print(\"Best Parameters:\", best_params)\n",
    "print(\"Best Score:\", best_score)"
   ]
  },
  {
   "cell_type": "markdown",
   "id": "719b222e",
   "metadata": {},
   "source": [
    "### SVM "
   ]
  },
  {
   "cell_type": "code",
   "execution_count": 19,
   "id": "7b91f240",
   "metadata": {},
   "outputs": [
    {
     "name": "stdout",
     "output_type": "stream",
     "text": [
      "Best Parameters: {'C': 0.1, 'gamma': 1}\n",
      "Best Score: 0.7124731182795699\n"
     ]
    }
   ],
   "source": [
    "param_grid = {\n",
    "    'C': [0.1, 1, 10, 100],           # Regularization parameter\n",
    "    'gamma': [1, 0.1, 0.01, 0.001]   # Kernel coefficient for 'rbf' and 'poly' kernels\n",
    "#     'kernel': ['rbf', 'poly', 'linear']  # Kernel type\n",
    "}\n",
    "\n",
    "# Initialize the SVM model\n",
    "svm = SVC(random_state=42)\n",
    "\n",
    "# Perform grid search with 5-fold cross-validation\n",
    "grid_search = GridSearchCV(estimator=svm, param_grid=param_grid, cv=5, scoring='accuracy')\n",
    "\n",
    "# Fit the grid search to the training data\n",
    "grid_search.fit(X_train, y_train)\n",
    "\n",
    "# Get the best parameters and the best score\n",
    "best_params = grid_search.best_params_\n",
    "best_score = grid_search.best_score_\n",
    "\n",
    "print(\"Best Parameters:\", best_params)\n",
    "print(\"Best Score:\", best_score)\n"
   ]
  },
  {
   "cell_type": "code",
   "execution_count": 20,
   "id": "74cc4e1c",
   "metadata": {},
   "outputs": [
    {
     "name": "stdout",
     "output_type": "stream",
     "text": [
      "Accuracy: 0.717948717948718\n",
      "Classification Report:\n",
      "              precision    recall  f1-score   support\n",
      "\n",
      "           0       0.72      1.00      0.84        28\n",
      "           1       0.00      0.00      0.00        11\n",
      "\n",
      "    accuracy                           0.72        39\n",
      "   macro avg       0.36      0.50      0.42        39\n",
      "weighted avg       0.52      0.72      0.60        39\n",
      "\n"
     ]
    },
    {
     "name": "stderr",
     "output_type": "stream",
     "text": [
      "/Users/sanmatichoudhary/anaconda3/lib/python3.11/site-packages/sklearn/metrics/_classification.py:1469: UndefinedMetricWarning: Precision and F-score are ill-defined and being set to 0.0 in labels with no predicted samples. Use `zero_division` parameter to control this behavior.\n",
      "  _warn_prf(average, modifier, msg_start, len(result))\n",
      "/Users/sanmatichoudhary/anaconda3/lib/python3.11/site-packages/sklearn/metrics/_classification.py:1469: UndefinedMetricWarning: Precision and F-score are ill-defined and being set to 0.0 in labels with no predicted samples. Use `zero_division` parameter to control this behavior.\n",
      "  _warn_prf(average, modifier, msg_start, len(result))\n",
      "/Users/sanmatichoudhary/anaconda3/lib/python3.11/site-packages/sklearn/metrics/_classification.py:1469: UndefinedMetricWarning: Precision and F-score are ill-defined and being set to 0.0 in labels with no predicted samples. Use `zero_division` parameter to control this behavior.\n",
      "  _warn_prf(average, modifier, msg_start, len(result))\n"
     ]
    }
   ],
   "source": [
    "model = SVC(kernel='rbf', random_state=42, C = 0.1, gamma = 1)  # You can choose different kernels such as 'linear', 'poly', 'rbf', etc.\n",
    "\n",
    "# Train the model\n",
    "model.fit(X_train, y_train)\n",
    "\n",
    "# Predict on the test set\n",
    "y_pred = model.predict(X_test)\n",
    "\n",
    "# Calculate accuracy\n",
    "accuracy = accuracy_score(y_test, y_pred)\n",
    "print(\"Accuracy:\", accuracy)\n",
    "\n",
    "# Print classification report\n",
    "print(\"Classification Report:\")\n",
    "print(classification_report(y_test, y_pred))"
   ]
  },
  {
   "cell_type": "markdown",
   "id": "7d65f631",
   "metadata": {},
   "source": [
    "### simple neural network"
   ]
  },
  {
   "cell_type": "code",
   "execution_count": 96,
   "id": "a854d420",
   "metadata": {},
   "outputs": [
    {
     "name": "stdout",
     "output_type": "stream",
     "text": [
      "Epoch 1/50\n",
      "31/31 [==============================] - 1s 5ms/step - loss: 1.4888 - accuracy: 0.5820 - val_loss: 0.8936 - val_accuracy: 0.7097\n",
      "Epoch 2/50\n",
      "31/31 [==============================] - 0s 2ms/step - loss: 0.5663 - accuracy: 0.7295 - val_loss: 0.5963 - val_accuracy: 0.7742\n",
      "Epoch 3/50\n",
      "31/31 [==============================] - 0s 2ms/step - loss: 0.6142 - accuracy: 0.7049 - val_loss: 0.6013 - val_accuracy: 0.7419\n",
      "Epoch 4/50\n",
      "31/31 [==============================] - 0s 2ms/step - loss: 0.5570 - accuracy: 0.7295 - val_loss: 0.5773 - val_accuracy: 0.7097\n",
      "Epoch 5/50\n",
      "31/31 [==============================] - 0s 2ms/step - loss: 0.5492 - accuracy: 0.7377 - val_loss: 0.5926 - val_accuracy: 0.7097\n",
      "Epoch 6/50\n",
      "31/31 [==============================] - 0s 2ms/step - loss: 0.5608 - accuracy: 0.7295 - val_loss: 0.5878 - val_accuracy: 0.7097\n",
      "Epoch 7/50\n",
      "31/31 [==============================] - 0s 2ms/step - loss: 0.5562 - accuracy: 0.7377 - val_loss: 0.5849 - val_accuracy: 0.7097\n",
      "Epoch 8/50\n",
      "31/31 [==============================] - 0s 2ms/step - loss: 0.5888 - accuracy: 0.6967 - val_loss: 0.6046 - val_accuracy: 0.7742\n",
      "Epoch 9/50\n",
      "31/31 [==============================] - 0s 2ms/step - loss: 0.5405 - accuracy: 0.7459 - val_loss: 0.5926 - val_accuracy: 0.7097\n",
      "Epoch 10/50\n",
      "31/31 [==============================] - 0s 2ms/step - loss: 0.5352 - accuracy: 0.7377 - val_loss: 0.6126 - val_accuracy: 0.7097\n",
      "Epoch 11/50\n",
      "31/31 [==============================] - 0s 3ms/step - loss: 0.5443 - accuracy: 0.7377 - val_loss: 0.6113 - val_accuracy: 0.7097\n",
      "Epoch 12/50\n",
      "31/31 [==============================] - 0s 2ms/step - loss: 0.5286 - accuracy: 0.7295 - val_loss: 0.5964 - val_accuracy: 0.7097\n",
      "Epoch 13/50\n",
      "31/31 [==============================] - 0s 2ms/step - loss: 0.5323 - accuracy: 0.7459 - val_loss: 0.6103 - val_accuracy: 0.7097\n",
      "Epoch 14/50\n",
      "31/31 [==============================] - 0s 2ms/step - loss: 0.5278 - accuracy: 0.7541 - val_loss: 0.6131 - val_accuracy: 0.7097\n",
      "Epoch 15/50\n",
      "31/31 [==============================] - 0s 2ms/step - loss: 0.5275 - accuracy: 0.7377 - val_loss: 0.5994 - val_accuracy: 0.7097\n",
      "Epoch 16/50\n",
      "31/31 [==============================] - 0s 2ms/step - loss: 0.5245 - accuracy: 0.7623 - val_loss: 0.6210 - val_accuracy: 0.7097\n",
      "Epoch 17/50\n",
      "31/31 [==============================] - 0s 2ms/step - loss: 0.5453 - accuracy: 0.7459 - val_loss: 0.6275 - val_accuracy: 0.7419\n",
      "Epoch 18/50\n",
      "31/31 [==============================] - 0s 2ms/step - loss: 0.5225 - accuracy: 0.7459 - val_loss: 0.6044 - val_accuracy: 0.7097\n",
      "Epoch 19/50\n",
      "31/31 [==============================] - 0s 2ms/step - loss: 0.5260 - accuracy: 0.7541 - val_loss: 0.6157 - val_accuracy: 0.7097\n",
      "Epoch 20/50\n",
      "31/31 [==============================] - 0s 2ms/step - loss: 0.5292 - accuracy: 0.7459 - val_loss: 0.6336 - val_accuracy: 0.7419\n",
      "Epoch 21/50\n",
      "31/31 [==============================] - 0s 2ms/step - loss: 0.5210 - accuracy: 0.7377 - val_loss: 0.6154 - val_accuracy: 0.7097\n",
      "Epoch 22/50\n",
      "31/31 [==============================] - 0s 2ms/step - loss: 0.5117 - accuracy: 0.7623 - val_loss: 0.6097 - val_accuracy: 0.7097\n",
      "Epoch 23/50\n",
      "31/31 [==============================] - 0s 2ms/step - loss: 0.5223 - accuracy: 0.7459 - val_loss: 0.6498 - val_accuracy: 0.7419\n",
      "Epoch 24/50\n",
      "31/31 [==============================] - 0s 2ms/step - loss: 0.5147 - accuracy: 0.7705 - val_loss: 0.6054 - val_accuracy: 0.7097\n",
      "Epoch 25/50\n",
      "31/31 [==============================] - 0s 2ms/step - loss: 0.5279 - accuracy: 0.7295 - val_loss: 0.6133 - val_accuracy: 0.7097\n",
      "Epoch 26/50\n",
      "31/31 [==============================] - 0s 2ms/step - loss: 0.5205 - accuracy: 0.7623 - val_loss: 0.6084 - val_accuracy: 0.7419\n",
      "Epoch 27/50\n",
      "31/31 [==============================] - 0s 2ms/step - loss: 0.5187 - accuracy: 0.7787 - val_loss: 0.6152 - val_accuracy: 0.7097\n",
      "Epoch 28/50\n",
      "31/31 [==============================] - 0s 2ms/step - loss: 0.5129 - accuracy: 0.7705 - val_loss: 0.6138 - val_accuracy: 0.7097\n",
      "Epoch 29/50\n",
      "31/31 [==============================] - 0s 2ms/step - loss: 0.5390 - accuracy: 0.7459 - val_loss: 0.6269 - val_accuracy: 0.7097\n",
      "Epoch 30/50\n",
      "31/31 [==============================] - 0s 2ms/step - loss: 0.5124 - accuracy: 0.7377 - val_loss: 0.6437 - val_accuracy: 0.7097\n",
      "Epoch 31/50\n",
      "31/31 [==============================] - 0s 2ms/step - loss: 0.5343 - accuracy: 0.7377 - val_loss: 0.6204 - val_accuracy: 0.7097\n",
      "Epoch 32/50\n",
      "31/31 [==============================] - 0s 2ms/step - loss: 0.5299 - accuracy: 0.7459 - val_loss: 0.6225 - val_accuracy: 0.7097\n",
      "Epoch 33/50\n",
      "31/31 [==============================] - 0s 2ms/step - loss: 0.5055 - accuracy: 0.7705 - val_loss: 0.6219 - val_accuracy: 0.7097\n",
      "Epoch 34/50\n",
      "31/31 [==============================] - 0s 2ms/step - loss: 0.5145 - accuracy: 0.7787 - val_loss: 0.6172 - val_accuracy: 0.7097\n",
      "Epoch 35/50\n",
      "31/31 [==============================] - 0s 2ms/step - loss: 0.5118 - accuracy: 0.7459 - val_loss: 0.6360 - val_accuracy: 0.7419\n",
      "Epoch 36/50\n",
      "31/31 [==============================] - 0s 2ms/step - loss: 0.5007 - accuracy: 0.7623 - val_loss: 0.6333 - val_accuracy: 0.7097\n",
      "Epoch 37/50\n",
      "31/31 [==============================] - 0s 2ms/step - loss: 0.5070 - accuracy: 0.7541 - val_loss: 0.6520 - val_accuracy: 0.7419\n",
      "Epoch 38/50\n",
      "31/31 [==============================] - 0s 2ms/step - loss: 0.5008 - accuracy: 0.7541 - val_loss: 0.6282 - val_accuracy: 0.7097\n",
      "Epoch 39/50\n",
      "31/31 [==============================] - 0s 2ms/step - loss: 0.5206 - accuracy: 0.7705 - val_loss: 0.6301 - val_accuracy: 0.7097\n",
      "Epoch 40/50\n",
      "31/31 [==============================] - 0s 2ms/step - loss: 0.5377 - accuracy: 0.7623 - val_loss: 0.6596 - val_accuracy: 0.7419\n",
      "Epoch 41/50\n",
      "31/31 [==============================] - 0s 2ms/step - loss: 0.5164 - accuracy: 0.7623 - val_loss: 0.6665 - val_accuracy: 0.7097\n",
      "Epoch 42/50\n",
      "31/31 [==============================] - 0s 2ms/step - loss: 0.4976 - accuracy: 0.7623 - val_loss: 0.6569 - val_accuracy: 0.7419\n",
      "Epoch 43/50\n",
      "31/31 [==============================] - 0s 2ms/step - loss: 0.5096 - accuracy: 0.7459 - val_loss: 0.6500 - val_accuracy: 0.7419\n",
      "Epoch 44/50\n",
      "31/31 [==============================] - 0s 2ms/step - loss: 0.5016 - accuracy: 0.7787 - val_loss: 0.6780 - val_accuracy: 0.7097\n",
      "Epoch 45/50\n",
      "31/31 [==============================] - 0s 2ms/step - loss: 0.4991 - accuracy: 0.7541 - val_loss: 0.6926 - val_accuracy: 0.6774\n",
      "Epoch 46/50\n",
      "31/31 [==============================] - 0s 2ms/step - loss: 0.5085 - accuracy: 0.7623 - val_loss: 0.6590 - val_accuracy: 0.7097\n",
      "Epoch 47/50\n",
      "31/31 [==============================] - 0s 3ms/step - loss: 0.4916 - accuracy: 0.7623 - val_loss: 0.6422 - val_accuracy: 0.7097\n",
      "Epoch 48/50\n",
      "31/31 [==============================] - 0s 2ms/step - loss: 0.4922 - accuracy: 0.7787 - val_loss: 0.6737 - val_accuracy: 0.7097\n",
      "Epoch 49/50\n",
      "31/31 [==============================] - 0s 2ms/step - loss: 0.5237 - accuracy: 0.7705 - val_loss: 0.6455 - val_accuracy: 0.7419\n",
      "Epoch 50/50\n",
      "31/31 [==============================] - 0s 2ms/step - loss: 0.4957 - accuracy: 0.7623 - val_loss: 0.6620 - val_accuracy: 0.7419\n",
      "2/2 [==============================] - 0s 3ms/step - loss: 0.6320 - accuracy: 0.6923\n",
      "Test Loss: 0.6320127844810486, Test Accuracy: 0.692307710647583\n"
     ]
    }
   ],
   "source": [
    "model = keras.Sequential([\n",
    "    keras.layers.Dense(64, activation='relu', input_shape=(4,)),\n",
    "    keras.layers.Dense(32, activation='relu'),\n",
    "    keras.layers.Dense(1, activation='sigmoid')  # Output layer with sigmoid activation for binary classification\n",
    "])\n",
    "\n",
    "# Compile the model\n",
    "model.compile(optimizer='adam', loss='binary_crossentropy', metrics=['accuracy'])\n",
    "\n",
    "# Train the model\n",
    "model.fit(X_train, y_train, epochs=50, batch_size=4, validation_split=0.2)\n",
    "\n",
    "# Evaluate the model on the test set\n",
    "test_loss, test_accuracy = model.evaluate(X_test, y_test)\n",
    "print(f'Test Loss: {test_loss}, Test Accuracy: {test_accuracy}')"
   ]
  },
  {
   "cell_type": "markdown",
   "id": "a1fad781",
   "metadata": {},
   "source": [
    "# Data Augmentation: Gaussain Noise "
   ]
  },
  {
   "cell_type": "code",
   "execution_count": 12,
   "id": "3da10f2f",
   "metadata": {},
   "outputs": [],
   "source": [
    "def add_gaussian_noise(X, mean=0, std=0.1):\n",
    "    noise = np.random.normal(mean, std, size=X.shape)\n",
    "    return X + noise\n",
    "# Example: Adding Gaussian noise with mean=0 and std=0.1\n",
    "X_with_gaussian_noise = add_gaussian_noise(X)\n",
    "X_augmented = pd.concat([X, X_with_gaussian_noise])\n",
    "y_augmented = pd.concat([y,y])\n",
    "X_train, X_test, y_train, y_test = train_test_split(X_augmented, y_augmented, test_size=0.2, random_state=42, stratify = y_augmented)\n",
    "\n",
    "\n"
   ]
  },
  {
   "cell_type": "markdown",
   "id": "7dcc8196",
   "metadata": {},
   "source": [
    "### Logisitic Reg"
   ]
  },
  {
   "cell_type": "code",
   "execution_count": 13,
   "id": "730727e8",
   "metadata": {},
   "outputs": [
    {
     "name": "stdout",
     "output_type": "stream",
     "text": [
      "Accuracy: 0.7402597402597403\n",
      "Classification Report:\n",
      "              precision    recall  f1-score   support\n",
      "\n",
      "           0       0.75      0.95      0.84        55\n",
      "           1       0.62      0.23      0.33        22\n",
      "\n",
      "    accuracy                           0.74        77\n",
      "   macro avg       0.69      0.59      0.59        77\n",
      "weighted avg       0.72      0.74      0.69        77\n",
      "\n"
     ]
    }
   ],
   "source": [
    "model = LogisticRegression()\n",
    "\n",
    "# Train the model\n",
    "model.fit(X_train, y_train)\n",
    "\n",
    "# Predict on the test set\n",
    "y_pred = model.predict(X_test)\n",
    "\n",
    "# Calculate accuracy\n",
    "accuracy = accuracy_score(y_test, y_pred)\n",
    "print(\"Accuracy:\", accuracy)\n",
    "\n",
    "# Print classification report\n",
    "print(\"Classification Report:\")\n",
    "print(classification_report(y_test, y_pred))"
   ]
  },
  {
   "cell_type": "code",
   "execution_count": 15,
   "id": "9655d383",
   "metadata": {},
   "outputs": [
    {
     "data": {
      "text/plain": [
       "array([0, 0, 0, 0, 0, 0, 1, 0, 0, 0, 1, 0, 0, 0, 0, 0, 0, 0, 0, 0, 0, 0,\n",
       "       0, 1, 0, 0, 0, 0, 0, 0, 1, 0, 0, 0, 0, 0, 0, 0, 0, 0, 0, 0, 1, 0,\n",
       "       0, 0, 0, 0, 0, 1, 0, 0, 0, 0, 0, 0, 0, 0, 1, 0, 0, 0, 0, 1, 0, 0,\n",
       "       0, 0, 0, 0, 0, 0, 0, 0, 0, 0, 0])"
      ]
     },
     "metadata": {},
     "output_type": "display_data"
    },
    {
     "data": {
      "text/plain": [
       "14     0\n",
       "134    0\n",
       "177    1\n",
       "37     0\n",
       "13     0\n",
       "      ..\n",
       "180    1\n",
       "91     0\n",
       "161    1\n",
       "14     0\n",
       "171    1\n",
       "Name: Normal, Length: 77, dtype: int64"
      ]
     },
     "metadata": {},
     "output_type": "display_data"
    },
    {
     "name": "stdout",
     "output_type": "stream",
     "text": [
      "77\n",
      "Normal\n",
      "0    55\n",
      "1    22\n",
      "Name: count, dtype: int64\n"
     ]
    }
   ],
   "source": [
    "display(y_pred)\n",
    "display(y_test)\n",
    "print(len(y_pred))\n",
    "print(y_test.value_counts())"
   ]
  },
  {
   "cell_type": "markdown",
   "id": "892b7d7d",
   "metadata": {},
   "source": [
    "### RF"
   ]
  },
  {
   "cell_type": "code",
   "execution_count": 66,
   "id": "6f2034c5",
   "metadata": {},
   "outputs": [
    {
     "name": "stdout",
     "output_type": "stream",
     "text": [
      "Best Parameters: {'max_depth': 10, 'min_samples_leaf': 1, 'min_samples_split': 2, 'n_estimators': 300}\n",
      "Best Score: 0.8013749338974089\n"
     ]
    }
   ],
   "source": [
    "param_grid = {\n",
    "    'n_estimators': [100, 200, 300],  # Number of trees in the forest\n",
    "    'max_depth': [None, 10, 20, 30],   # Maximum depth of the trees\n",
    "    'min_samples_split': [2, 5, 10],   # Minimum number of samples required to split a node\n",
    "    'min_samples_leaf': [1, 2, 4]      # Minimum number of samples required at each leaf node\n",
    "}\n",
    "\n",
    "# Initialize the Random Forest model\n",
    "rf = RandomForestClassifier(random_state=42)\n",
    "\n",
    "# Perform grid search with 5-fold cross-validation\n",
    "grid_search = GridSearchCV(estimator=rf, param_grid=param_grid, cv=5, scoring='accuracy')\n",
    "\n",
    "# Fit the grid search to the training data\n",
    "grid_search.fit(X_train, y_train)\n",
    "\n",
    "# Get the best parameters and the best score\n",
    "best_params = grid_search.best_params_\n",
    "best_score = grid_search.best_score_\n",
    "\n",
    "print(\"Best Parameters:\", best_params)\n",
    "print(\"Best Score:\", best_score)"
   ]
  },
  {
   "cell_type": "code",
   "execution_count": 67,
   "id": "d36e53b2",
   "metadata": {},
   "outputs": [
    {
     "name": "stdout",
     "output_type": "stream",
     "text": [
      "Accuracy: 0.8571428571428571\n",
      "Classification Report:\n",
      "              precision    recall  f1-score   support\n",
      "\n",
      "           0       0.85      0.96      0.91        55\n",
      "           1       0.87      0.59      0.70        22\n",
      "\n",
      "    accuracy                           0.86        77\n",
      "   macro avg       0.86      0.78      0.80        77\n",
      "weighted avg       0.86      0.86      0.85        77\n",
      "\n"
     ]
    }
   ],
   "source": [
    "model = RandomForestClassifier(random_state=42, max_depth = 10, n_estimators = 300, min_samples_leaf = 1, min_samples_split = 2)\n",
    "\n",
    "# Train the model\n",
    "model.fit(X_train, y_train)\n",
    "\n",
    "# Predict on the test set\n",
    "y_pred = model.predict(X_test)\n",
    "\n",
    "# Calculate accuracy\n",
    "accuracy = accuracy_score(y_test, y_pred)\n",
    "print(\"Accuracy:\", accuracy)\n",
    "\n",
    "# Print classification report\n",
    "print(\"Classification Report:\")\n",
    "print(classification_report(y_test, y_pred))"
   ]
  },
  {
   "cell_type": "markdown",
   "id": "911f99e8",
   "metadata": {},
   "source": [
    "### SVM "
   ]
  },
  {
   "cell_type": "code",
   "execution_count": 68,
   "id": "32424617",
   "metadata": {},
   "outputs": [
    {
     "name": "stdout",
     "output_type": "stream",
     "text": [
      "Best Parameters: {'C': 10, 'gamma': 1}\n",
      "Best Score: 0.889264939185616\n"
     ]
    }
   ],
   "source": [
    "param_grid = {\n",
    "    'C': [0.1, 1, 10, 100],           # Regularization parameter\n",
    "    'gamma': [1, 0.1, 0.01, 0.001]   # Kernel coefficient for 'rbf' and 'poly' kernels\n",
    "#     'kernel': ['rbf', 'poly', 'linear']  # Kernel type\n",
    "}\n",
    "\n",
    "# Initialize the SVM model\n",
    "svm = SVC(random_state=42)\n",
    "\n",
    "# Perform grid search with 5-fold cross-validation\n",
    "grid_search = GridSearchCV(estimator=svm, param_grid=param_grid, cv=5, scoring='accuracy')\n",
    "\n",
    "# Fit the grid search to the training data\n",
    "grid_search.fit(X_train, y_train)\n",
    "\n",
    "# Get the best parameters and the best score\n",
    "best_params = grid_search.best_params_\n",
    "best_score = grid_search.best_score_\n",
    "\n",
    "print(\"Best Parameters:\", best_params)\n",
    "print(\"Best Score:\", best_score)"
   ]
  },
  {
   "cell_type": "code",
   "execution_count": 69,
   "id": "6aed1fde",
   "metadata": {},
   "outputs": [
    {
     "name": "stdout",
     "output_type": "stream",
     "text": [
      "Accuracy: 0.922077922077922\n",
      "Classification Report:\n",
      "              precision    recall  f1-score   support\n",
      "\n",
      "           0       0.93      0.96      0.95        55\n",
      "           1       0.90      0.82      0.86        22\n",
      "\n",
      "    accuracy                           0.92        77\n",
      "   macro avg       0.91      0.89      0.90        77\n",
      "weighted avg       0.92      0.92      0.92        77\n",
      "\n"
     ]
    }
   ],
   "source": [
    "model = SVC(kernel='rbf', random_state=42, C = 10, gamma = 1)  # You can choose different kernels such as 'linear', 'poly', 'rbf', etc.\n",
    "\n",
    "# Train the model\n",
    "model.fit(X_train, y_train)\n",
    "\n",
    "# Predict on the test set\n",
    "y_pred = model.predict(X_test)\n",
    "\n",
    "# Calculate accuracy\n",
    "accuracy = accuracy_score(y_test, y_pred)\n",
    "print(\"Accuracy:\", accuracy)\n",
    "\n",
    "# Print classification report\n",
    "print(\"Classification Report:\")\n",
    "print(classification_report(y_test, y_pred))"
   ]
  },
  {
   "cell_type": "markdown",
   "id": "e078f617",
   "metadata": {},
   "source": [
    "### simple neural network"
   ]
  },
  {
   "cell_type": "code",
   "execution_count": 99,
   "id": "7cb4e5bc",
   "metadata": {},
   "outputs": [
    {
     "name": "stdout",
     "output_type": "stream",
     "text": [
      "Epoch 1/50\n",
      "62/62 [==============================] - 1s 3ms/step - loss: 0.7556 - accuracy: 0.6571 - val_loss: 0.5756 - val_accuracy: 0.6129\n",
      "Epoch 2/50\n",
      "62/62 [==============================] - 0s 2ms/step - loss: 0.5853 - accuracy: 0.6816 - val_loss: 0.5203 - val_accuracy: 0.7581\n",
      "Epoch 3/50\n",
      "62/62 [==============================] - 0s 2ms/step - loss: 0.5913 - accuracy: 0.7143 - val_loss: 0.5317 - val_accuracy: 0.7903\n",
      "Epoch 4/50\n",
      "62/62 [==============================] - 0s 2ms/step - loss: 0.5873 - accuracy: 0.7224 - val_loss: 0.5279 - val_accuracy: 0.8065\n",
      "Epoch 5/50\n",
      "62/62 [==============================] - 0s 2ms/step - loss: 0.5684 - accuracy: 0.7347 - val_loss: 0.5238 - val_accuracy: 0.8065\n",
      "Epoch 6/50\n",
      "62/62 [==============================] - 0s 1ms/step - loss: 0.5674 - accuracy: 0.7306 - val_loss: 0.5691 - val_accuracy: 0.7097\n",
      "Epoch 7/50\n",
      "62/62 [==============================] - 0s 1ms/step - loss: 0.5667 - accuracy: 0.7184 - val_loss: 0.5333 - val_accuracy: 0.8065\n",
      "Epoch 8/50\n",
      "62/62 [==============================] - 0s 2ms/step - loss: 0.5604 - accuracy: 0.7306 - val_loss: 0.7031 - val_accuracy: 0.6452\n",
      "Epoch 9/50\n",
      "62/62 [==============================] - 0s 2ms/step - loss: 0.6423 - accuracy: 0.6735 - val_loss: 0.5643 - val_accuracy: 0.7742\n",
      "Epoch 10/50\n",
      "62/62 [==============================] - 0s 1ms/step - loss: 0.5923 - accuracy: 0.7347 - val_loss: 0.5078 - val_accuracy: 0.7903\n",
      "Epoch 11/50\n",
      "62/62 [==============================] - 0s 1ms/step - loss: 0.5785 - accuracy: 0.7061 - val_loss: 0.6131 - val_accuracy: 0.6935\n",
      "Epoch 12/50\n",
      "62/62 [==============================] - 0s 2ms/step - loss: 0.5611 - accuracy: 0.6980 - val_loss: 0.5260 - val_accuracy: 0.7903\n",
      "Epoch 13/50\n",
      "62/62 [==============================] - 0s 1ms/step - loss: 0.5710 - accuracy: 0.6857 - val_loss: 0.5228 - val_accuracy: 0.7903\n",
      "Epoch 14/50\n",
      "62/62 [==============================] - 0s 1ms/step - loss: 0.5678 - accuracy: 0.7265 - val_loss: 0.5102 - val_accuracy: 0.7742\n",
      "Epoch 15/50\n",
      "62/62 [==============================] - 0s 2ms/step - loss: 0.5503 - accuracy: 0.7347 - val_loss: 0.5156 - val_accuracy: 0.7742\n",
      "Epoch 16/50\n",
      "62/62 [==============================] - 0s 2ms/step - loss: 0.5533 - accuracy: 0.7347 - val_loss: 0.5501 - val_accuracy: 0.7742\n",
      "Epoch 17/50\n",
      "62/62 [==============================] - 0s 2ms/step - loss: 0.5493 - accuracy: 0.7224 - val_loss: 0.5096 - val_accuracy: 0.7742\n",
      "Epoch 18/50\n",
      "62/62 [==============================] - 0s 1ms/step - loss: 0.5955 - accuracy: 0.6939 - val_loss: 0.5040 - val_accuracy: 0.7742\n",
      "Epoch 19/50\n",
      "62/62 [==============================] - 0s 2ms/step - loss: 0.5652 - accuracy: 0.7184 - val_loss: 0.5652 - val_accuracy: 0.7581\n",
      "Epoch 20/50\n",
      "62/62 [==============================] - 0s 2ms/step - loss: 0.5509 - accuracy: 0.7184 - val_loss: 0.5051 - val_accuracy: 0.7581\n",
      "Epoch 21/50\n",
      "62/62 [==============================] - 0s 2ms/step - loss: 0.5401 - accuracy: 0.7469 - val_loss: 0.5520 - val_accuracy: 0.7903\n",
      "Epoch 22/50\n",
      "62/62 [==============================] - 0s 2ms/step - loss: 0.5397 - accuracy: 0.7347 - val_loss: 0.5448 - val_accuracy: 0.7581\n",
      "Epoch 23/50\n",
      "62/62 [==============================] - 0s 2ms/step - loss: 0.5558 - accuracy: 0.7143 - val_loss: 0.5289 - val_accuracy: 0.7742\n",
      "Epoch 24/50\n",
      "62/62 [==============================] - 0s 2ms/step - loss: 0.5287 - accuracy: 0.7633 - val_loss: 0.5403 - val_accuracy: 0.7581\n",
      "Epoch 25/50\n",
      "62/62 [==============================] - 0s 2ms/step - loss: 0.5442 - accuracy: 0.7429 - val_loss: 0.5132 - val_accuracy: 0.7742\n",
      "Epoch 26/50\n",
      "62/62 [==============================] - 0s 1ms/step - loss: 0.5319 - accuracy: 0.7510 - val_loss: 0.5447 - val_accuracy: 0.7742\n",
      "Epoch 27/50\n",
      "62/62 [==============================] - 0s 2ms/step - loss: 0.5406 - accuracy: 0.7551 - val_loss: 0.5403 - val_accuracy: 0.7742\n",
      "Epoch 28/50\n",
      "62/62 [==============================] - 0s 2ms/step - loss: 0.5313 - accuracy: 0.7347 - val_loss: 0.5438 - val_accuracy: 0.7581\n",
      "Epoch 29/50\n",
      "62/62 [==============================] - 0s 2ms/step - loss: 0.5355 - accuracy: 0.7551 - val_loss: 0.5751 - val_accuracy: 0.7581\n",
      "Epoch 30/50\n",
      "62/62 [==============================] - 0s 2ms/step - loss: 0.5108 - accuracy: 0.7755 - val_loss: 0.5520 - val_accuracy: 0.7581\n",
      "Epoch 31/50\n",
      "62/62 [==============================] - 0s 2ms/step - loss: 0.5312 - accuracy: 0.7388 - val_loss: 0.5859 - val_accuracy: 0.7419\n",
      "Epoch 32/50\n",
      "62/62 [==============================] - 0s 2ms/step - loss: 0.5248 - accuracy: 0.7714 - val_loss: 0.5372 - val_accuracy: 0.7903\n",
      "Epoch 33/50\n",
      "62/62 [==============================] - 0s 2ms/step - loss: 0.5166 - accuracy: 0.7592 - val_loss: 0.5489 - val_accuracy: 0.7742\n",
      "Epoch 34/50\n",
      "62/62 [==============================] - 0s 2ms/step - loss: 0.5116 - accuracy: 0.7755 - val_loss: 0.5585 - val_accuracy: 0.7903\n",
      "Epoch 35/50\n",
      "62/62 [==============================] - 0s 2ms/step - loss: 0.5150 - accuracy: 0.7714 - val_loss: 0.5362 - val_accuracy: 0.7581\n",
      "Epoch 36/50\n",
      "62/62 [==============================] - 0s 2ms/step - loss: 0.5156 - accuracy: 0.7510 - val_loss: 0.5576 - val_accuracy: 0.7742\n",
      "Epoch 37/50\n",
      "62/62 [==============================] - 0s 1ms/step - loss: 0.5264 - accuracy: 0.7429 - val_loss: 0.5187 - val_accuracy: 0.7581\n",
      "Epoch 38/50\n",
      "62/62 [==============================] - 0s 1ms/step - loss: 0.5172 - accuracy: 0.7510 - val_loss: 0.5976 - val_accuracy: 0.7419\n",
      "Epoch 39/50\n",
      "62/62 [==============================] - 0s 1ms/step - loss: 0.5722 - accuracy: 0.7020 - val_loss: 0.5454 - val_accuracy: 0.7581\n",
      "Epoch 40/50\n",
      "62/62 [==============================] - 0s 2ms/step - loss: 0.5291 - accuracy: 0.7633 - val_loss: 0.5556 - val_accuracy: 0.7742\n",
      "Epoch 41/50\n",
      "62/62 [==============================] - 0s 1ms/step - loss: 0.5031 - accuracy: 0.7755 - val_loss: 0.5729 - val_accuracy: 0.7742\n",
      "Epoch 42/50\n",
      "62/62 [==============================] - 0s 1ms/step - loss: 0.5062 - accuracy: 0.7755 - val_loss: 0.5471 - val_accuracy: 0.7581\n",
      "Epoch 43/50\n",
      "62/62 [==============================] - 0s 2ms/step - loss: 0.5166 - accuracy: 0.7510 - val_loss: 0.5740 - val_accuracy: 0.7742\n",
      "Epoch 44/50\n",
      "62/62 [==============================] - 0s 1ms/step - loss: 0.5227 - accuracy: 0.7755 - val_loss: 0.5530 - val_accuracy: 0.7742\n",
      "Epoch 45/50\n",
      "62/62 [==============================] - 0s 1ms/step - loss: 0.5043 - accuracy: 0.7592 - val_loss: 0.5313 - val_accuracy: 0.7581\n",
      "Epoch 46/50\n",
      "62/62 [==============================] - 0s 1ms/step - loss: 0.5123 - accuracy: 0.7551 - val_loss: 0.5894 - val_accuracy: 0.7581\n",
      "Epoch 47/50\n",
      "62/62 [==============================] - 0s 2ms/step - loss: 0.5174 - accuracy: 0.7592 - val_loss: 0.5636 - val_accuracy: 0.7903\n",
      "Epoch 48/50\n",
      "62/62 [==============================] - 0s 1ms/step - loss: 0.5109 - accuracy: 0.7633 - val_loss: 0.5536 - val_accuracy: 0.7742\n",
      "Epoch 49/50\n",
      "62/62 [==============================] - 0s 2ms/step - loss: 0.5133 - accuracy: 0.7755 - val_loss: 0.5642 - val_accuracy: 0.7742\n",
      "Epoch 50/50\n",
      "62/62 [==============================] - 0s 2ms/step - loss: 0.4964 - accuracy: 0.7592 - val_loss: 0.5375 - val_accuracy: 0.7581\n",
      "3/3 [==============================] - 0s 2ms/step - loss: 0.6387 - accuracy: 0.7273\n",
      "Test Loss: 0.6387169361114502, Test Accuracy: 0.7272727489471436\n"
     ]
    }
   ],
   "source": [
    "model = keras.Sequential([\n",
    "    keras.layers.Dense(64, activation='relu', input_shape=(4,)),\n",
    "    keras.layers.Dense(32, activation='relu'),\n",
    "    keras.layers.Dense(1, activation='sigmoid')  # Output layer with sigmoid activation for binary classification\n",
    "])\n",
    "\n",
    "# Compile the model\n",
    "model.compile(optimizer='adam', loss='binary_crossentropy', metrics=['accuracy'])\n",
    "\n",
    "# Train the model\n",
    "model.fit(X_train, y_train, epochs=50, batch_size=4, validation_split=0.2)\n",
    "\n",
    "# Evaluate the model on the test set\n",
    "test_loss, test_accuracy = model.evaluate(X_test, y_test)\n",
    "print(f'Test Loss: {test_loss}, Test Accuracy: {test_accuracy}')"
   ]
  },
  {
   "cell_type": "markdown",
   "id": "62a16708",
   "metadata": {},
   "source": [
    "# Data Augmentation: Jittering"
   ]
  },
  {
   "cell_type": "code",
   "execution_count": 100,
   "id": "79ee70b1",
   "metadata": {},
   "outputs": [],
   "source": [
    "def add_jittering(X, magnitude=0.1):\n",
    "    jitter = np.random.uniform(-magnitude, magnitude, size=X.shape)\n",
    "    return X + jitter\n",
    "\n",
    "# Example: Adding jittering with magnitude=0.1\n",
    "X_with_jittering = add_jittering(X)\n",
    "\n",
    "X_augmented = pd.concat([X, X_with_jittering])\n",
    "y_augmented = pd.concat([y,y])\n",
    "X_train, X_test, y_train, y_test = train_test_split(X_augmented, y_augmented, test_size=0.2, random_state=42, stratify = y_augmented)\n",
    "\n"
   ]
  },
  {
   "cell_type": "markdown",
   "id": "59cd0798",
   "metadata": {},
   "source": [
    "### Logisitic Reg"
   ]
  },
  {
   "cell_type": "code",
   "execution_count": 71,
   "id": "c68ed7a7",
   "metadata": {},
   "outputs": [
    {
     "name": "stdout",
     "output_type": "stream",
     "text": [
      "Accuracy: 0.7402597402597403\n",
      "Classification Report:\n",
      "              precision    recall  f1-score   support\n",
      "\n",
      "           0       0.75      0.95      0.84        55\n",
      "           1       0.62      0.23      0.33        22\n",
      "\n",
      "    accuracy                           0.74        77\n",
      "   macro avg       0.69      0.59      0.59        77\n",
      "weighted avg       0.72      0.74      0.69        77\n",
      "\n"
     ]
    }
   ],
   "source": [
    "model = LogisticRegression()\n",
    "\n",
    "# Train the model\n",
    "model.fit(X_train, y_train)\n",
    "\n",
    "# Predict on the test set\n",
    "y_pred = model.predict(X_test)\n",
    "\n",
    "# Calculate accuracy\n",
    "accuracy = accuracy_score(y_test, y_pred)\n",
    "print(\"Accuracy:\", accuracy)\n",
    "\n",
    "# Print classification report\n",
    "print(\"Classification Report:\")\n",
    "print(classification_report(y_test, y_pred))"
   ]
  },
  {
   "cell_type": "markdown",
   "id": "e0576e7d",
   "metadata": {},
   "source": [
    "### RF"
   ]
  },
  {
   "cell_type": "code",
   "execution_count": 72,
   "id": "e903655c",
   "metadata": {},
   "outputs": [
    {
     "name": "stdout",
     "output_type": "stream",
     "text": [
      "Best Parameters: {'max_depth': 10, 'min_samples_leaf': 1, 'min_samples_split': 2, 'n_estimators': 100}\n",
      "Best Score: 0.8079851930195664\n"
     ]
    }
   ],
   "source": [
    "param_grid = {\n",
    "    'n_estimators': [100, 200, 300],  # Number of trees in the forest\n",
    "    'max_depth': [None, 10, 20, 30],   # Maximum depth of the trees\n",
    "    'min_samples_split': [2, 5, 10],   # Minimum number of samples required to split a node\n",
    "    'min_samples_leaf': [1, 2, 4]      # Minimum number of samples required at each leaf node\n",
    "}\n",
    "\n",
    "# Initialize the Random Forest model\n",
    "rf = RandomForestClassifier(random_state=42)\n",
    "\n",
    "# Perform grid search with 5-fold cross-validation\n",
    "grid_search = GridSearchCV(estimator=rf, param_grid=param_grid, cv=5, scoring='accuracy')\n",
    "\n",
    "# Fit the grid search to the training data\n",
    "grid_search.fit(X_train, y_train)\n",
    "\n",
    "# Get the best parameters and the best score\n",
    "best_params = grid_search.best_params_\n",
    "best_score = grid_search.best_score_\n",
    "\n",
    "print(\"Best Parameters:\", best_params)\n",
    "print(\"Best Score:\", best_score)"
   ]
  },
  {
   "cell_type": "code",
   "execution_count": 73,
   "id": "084256e3",
   "metadata": {},
   "outputs": [
    {
     "name": "stdout",
     "output_type": "stream",
     "text": [
      "Accuracy: 0.8571428571428571\n",
      "Classification Report:\n",
      "              precision    recall  f1-score   support\n",
      "\n",
      "           0       0.85      0.96      0.91        55\n",
      "           1       0.87      0.59      0.70        22\n",
      "\n",
      "    accuracy                           0.86        77\n",
      "   macro avg       0.86      0.78      0.80        77\n",
      "weighted avg       0.86      0.86      0.85        77\n",
      "\n"
     ]
    }
   ],
   "source": [
    "model = RandomForestClassifier(random_state=42, max_depth = 10, n_estimators = 100, min_samples_leaf = 1, min_samples_split = 2)\n",
    "\n",
    "# Train the model\n",
    "model.fit(X_train, y_train)\n",
    "\n",
    "# Predict on the test set\n",
    "y_pred = model.predict(X_test)\n",
    "\n",
    "# Calculate accuracy\n",
    "accuracy = accuracy_score(y_test, y_pred)\n",
    "print(\"Accuracy:\", accuracy)\n",
    "\n",
    "# Print classification report\n",
    "print(\"Classification Report:\")\n",
    "print(classification_report(y_test, y_pred))"
   ]
  },
  {
   "cell_type": "markdown",
   "id": "60793485",
   "metadata": {},
   "source": [
    "### SVM"
   ]
  },
  {
   "cell_type": "code",
   "execution_count": 74,
   "id": "eaf26dac",
   "metadata": {},
   "outputs": [
    {
     "name": "stdout",
     "output_type": "stream",
     "text": [
      "Best Parameters: {'C': 10, 'gamma': 1}\n",
      "Best Score: 0.889264939185616\n"
     ]
    }
   ],
   "source": [
    "param_grid = {\n",
    "    'C': [0.1, 1, 10, 100],           # Regularization parameter\n",
    "    'gamma': [1, 0.1, 0.01, 0.001]   # Kernel coefficient for 'rbf' and 'poly' kernels\n",
    "#     'kernel': ['rbf', 'poly', 'linear']  # Kernel type\n",
    "}\n",
    "\n",
    "# Initialize the SVM model\n",
    "svm = SVC(random_state=42)\n",
    "\n",
    "# Perform grid search with 5-fold cross-validation\n",
    "grid_search = GridSearchCV(estimator=svm, param_grid=param_grid, cv=5, scoring='accuracy')\n",
    "\n",
    "# Fit the grid search to the training data\n",
    "grid_search.fit(X_train, y_train)\n",
    "\n",
    "# Get the best parameters and the best score\n",
    "best_params = grid_search.best_params_\n",
    "best_score = grid_search.best_score_\n",
    "\n",
    "print(\"Best Parameters:\", best_params)\n",
    "print(\"Best Score:\", best_score)"
   ]
  },
  {
   "cell_type": "code",
   "execution_count": 75,
   "id": "8657aa8f",
   "metadata": {},
   "outputs": [
    {
     "name": "stdout",
     "output_type": "stream",
     "text": [
      "Accuracy: 0.922077922077922\n",
      "Classification Report:\n",
      "              precision    recall  f1-score   support\n",
      "\n",
      "           0       0.93      0.96      0.95        55\n",
      "           1       0.90      0.82      0.86        22\n",
      "\n",
      "    accuracy                           0.92        77\n",
      "   macro avg       0.91      0.89      0.90        77\n",
      "weighted avg       0.92      0.92      0.92        77\n",
      "\n"
     ]
    }
   ],
   "source": [
    "model = SVC(kernel='rbf', random_state=42, C = 10, gamma = 1)  # You can choose different kernels such as 'linear', 'poly', 'rbf', etc.\n",
    "\n",
    "# Train the model\n",
    "model.fit(X_train, y_train)\n",
    "\n",
    "# Predict on the test set\n",
    "y_pred = model.predict(X_test)\n",
    "\n",
    "# Calculate accuracy\n",
    "accuracy = accuracy_score(y_test, y_pred)\n",
    "print(\"Accuracy:\", accuracy)\n",
    "\n",
    "# Print classification report\n",
    "print(\"Classification Report:\")\n",
    "print(classification_report(y_test, y_pred))"
   ]
  },
  {
   "cell_type": "markdown",
   "id": "ddf1b519",
   "metadata": {},
   "source": [
    "### simple neural network "
   ]
  },
  {
   "cell_type": "code",
   "execution_count": 101,
   "id": "e8286bc0",
   "metadata": {},
   "outputs": [
    {
     "name": "stdout",
     "output_type": "stream",
     "text": [
      "Epoch 1/50\n",
      "62/62 [==============================] - 1s 3ms/step - loss: 0.6285 - accuracy: 0.6857 - val_loss: 0.5222 - val_accuracy: 0.7581\n",
      "Epoch 2/50\n",
      "62/62 [==============================] - 0s 2ms/step - loss: 0.5712 - accuracy: 0.7184 - val_loss: 0.5025 - val_accuracy: 0.7581\n",
      "Epoch 3/50\n",
      "62/62 [==============================] - 0s 2ms/step - loss: 0.5831 - accuracy: 0.7020 - val_loss: 0.5637 - val_accuracy: 0.7581\n",
      "Epoch 4/50\n",
      "62/62 [==============================] - 0s 2ms/step - loss: 0.5565 - accuracy: 0.7429 - val_loss: 0.5849 - val_accuracy: 0.7419\n",
      "Epoch 5/50\n",
      "62/62 [==============================] - 0s 2ms/step - loss: 0.5626 - accuracy: 0.7184 - val_loss: 0.5087 - val_accuracy: 0.7742\n",
      "Epoch 6/50\n",
      "62/62 [==============================] - 0s 4ms/step - loss: 0.5476 - accuracy: 0.7184 - val_loss: 0.5380 - val_accuracy: 0.7742\n",
      "Epoch 7/50\n",
      "62/62 [==============================] - 0s 2ms/step - loss: 0.5406 - accuracy: 0.7429 - val_loss: 0.5218 - val_accuracy: 0.7581\n",
      "Epoch 8/50\n",
      "62/62 [==============================] - 0s 2ms/step - loss: 0.5648 - accuracy: 0.7469 - val_loss: 0.5546 - val_accuracy: 0.7581\n",
      "Epoch 9/50\n",
      "62/62 [==============================] - 0s 2ms/step - loss: 0.5449 - accuracy: 0.7388 - val_loss: 0.5363 - val_accuracy: 0.7742\n",
      "Epoch 10/50\n",
      "62/62 [==============================] - 0s 2ms/step - loss: 0.5550 - accuracy: 0.7347 - val_loss: 0.6574 - val_accuracy: 0.7742\n",
      "Epoch 11/50\n",
      "62/62 [==============================] - 0s 2ms/step - loss: 0.5465 - accuracy: 0.7388 - val_loss: 0.5328 - val_accuracy: 0.7742\n",
      "Epoch 12/50\n",
      "62/62 [==============================] - 0s 2ms/step - loss: 0.5371 - accuracy: 0.7429 - val_loss: 0.5361 - val_accuracy: 0.7742\n",
      "Epoch 13/50\n",
      "62/62 [==============================] - 0s 2ms/step - loss: 0.5330 - accuracy: 0.7429 - val_loss: 0.5666 - val_accuracy: 0.7742\n",
      "Epoch 14/50\n",
      "62/62 [==============================] - 0s 2ms/step - loss: 0.5310 - accuracy: 0.7469 - val_loss: 0.5405 - val_accuracy: 0.7581\n",
      "Epoch 15/50\n",
      "62/62 [==============================] - 0s 2ms/step - loss: 0.5243 - accuracy: 0.7551 - val_loss: 0.5649 - val_accuracy: 0.7742\n",
      "Epoch 16/50\n",
      "62/62 [==============================] - 0s 2ms/step - loss: 0.5255 - accuracy: 0.7633 - val_loss: 0.5886 - val_accuracy: 0.7581\n",
      "Epoch 17/50\n",
      "62/62 [==============================] - 0s 2ms/step - loss: 0.5233 - accuracy: 0.7551 - val_loss: 0.5648 - val_accuracy: 0.7581\n",
      "Epoch 18/50\n",
      "62/62 [==============================] - 0s 1ms/step - loss: 0.5276 - accuracy: 0.7510 - val_loss: 0.6010 - val_accuracy: 0.7419\n",
      "Epoch 19/50\n",
      "62/62 [==============================] - 0s 2ms/step - loss: 0.5292 - accuracy: 0.7510 - val_loss: 0.6441 - val_accuracy: 0.7581\n",
      "Epoch 20/50\n",
      "62/62 [==============================] - 0s 2ms/step - loss: 0.5335 - accuracy: 0.7673 - val_loss: 0.5571 - val_accuracy: 0.7742\n",
      "Epoch 21/50\n",
      "62/62 [==============================] - 0s 1ms/step - loss: 0.5133 - accuracy: 0.7388 - val_loss: 0.5906 - val_accuracy: 0.7581\n",
      "Epoch 22/50\n",
      "62/62 [==============================] - 0s 2ms/step - loss: 0.5086 - accuracy: 0.7796 - val_loss: 0.6226 - val_accuracy: 0.7258\n",
      "Epoch 23/50\n",
      "62/62 [==============================] - 0s 1ms/step - loss: 0.5076 - accuracy: 0.7633 - val_loss: 0.6066 - val_accuracy: 0.7581\n",
      "Epoch 24/50\n",
      "62/62 [==============================] - 0s 2ms/step - loss: 0.5079 - accuracy: 0.7633 - val_loss: 0.6407 - val_accuracy: 0.7258\n",
      "Epoch 25/50\n",
      "62/62 [==============================] - 0s 2ms/step - loss: 0.5080 - accuracy: 0.7837 - val_loss: 0.7225 - val_accuracy: 0.7258\n",
      "Epoch 26/50\n",
      "62/62 [==============================] - 0s 2ms/step - loss: 0.5214 - accuracy: 0.7510 - val_loss: 0.6123 - val_accuracy: 0.7742\n",
      "Epoch 27/50\n",
      "62/62 [==============================] - 0s 2ms/step - loss: 0.5120 - accuracy: 0.7551 - val_loss: 0.5779 - val_accuracy: 0.7742\n",
      "Epoch 28/50\n",
      "62/62 [==============================] - 0s 2ms/step - loss: 0.5109 - accuracy: 0.7306 - val_loss: 0.5758 - val_accuracy: 0.7581\n",
      "Epoch 29/50\n",
      "62/62 [==============================] - 0s 2ms/step - loss: 0.5361 - accuracy: 0.7510 - val_loss: 0.7676 - val_accuracy: 0.6613\n",
      "Epoch 30/50\n",
      "62/62 [==============================] - 0s 1ms/step - loss: 0.5192 - accuracy: 0.7510 - val_loss: 0.5830 - val_accuracy: 0.7742\n",
      "Epoch 31/50\n",
      "62/62 [==============================] - 0s 2ms/step - loss: 0.4962 - accuracy: 0.7755 - val_loss: 0.5711 - val_accuracy: 0.7742\n",
      "Epoch 32/50\n",
      "62/62 [==============================] - 0s 2ms/step - loss: 0.5390 - accuracy: 0.7102 - val_loss: 0.5897 - val_accuracy: 0.7581\n",
      "Epoch 33/50\n",
      "62/62 [==============================] - 0s 2ms/step - loss: 0.4927 - accuracy: 0.7633 - val_loss: 0.5941 - val_accuracy: 0.7581\n",
      "Epoch 34/50\n",
      "62/62 [==============================] - 0s 2ms/step - loss: 0.5098 - accuracy: 0.7469 - val_loss: 0.6115 - val_accuracy: 0.7581\n",
      "Epoch 35/50\n",
      "62/62 [==============================] - 0s 2ms/step - loss: 0.5134 - accuracy: 0.7551 - val_loss: 0.6016 - val_accuracy: 0.7419\n",
      "Epoch 36/50\n",
      "62/62 [==============================] - 0s 2ms/step - loss: 0.5081 - accuracy: 0.7796 - val_loss: 0.6086 - val_accuracy: 0.7419\n",
      "Epoch 37/50\n",
      "62/62 [==============================] - 0s 2ms/step - loss: 0.5046 - accuracy: 0.7633 - val_loss: 0.6321 - val_accuracy: 0.7419\n",
      "Epoch 38/50\n",
      "62/62 [==============================] - 0s 1ms/step - loss: 0.5129 - accuracy: 0.7592 - val_loss: 0.5914 - val_accuracy: 0.7419\n",
      "Epoch 39/50\n",
      "62/62 [==============================] - 0s 1ms/step - loss: 0.5233 - accuracy: 0.7592 - val_loss: 0.5732 - val_accuracy: 0.7581\n",
      "Epoch 40/50\n",
      "62/62 [==============================] - 0s 2ms/step - loss: 0.5196 - accuracy: 0.7469 - val_loss: 0.5982 - val_accuracy: 0.7581\n",
      "Epoch 41/50\n",
      "62/62 [==============================] - 0s 2ms/step - loss: 0.4946 - accuracy: 0.7673 - val_loss: 0.5882 - val_accuracy: 0.7581\n",
      "Epoch 42/50\n",
      "62/62 [==============================] - 0s 2ms/step - loss: 0.4922 - accuracy: 0.7755 - val_loss: 0.6406 - val_accuracy: 0.7581\n",
      "Epoch 43/50\n",
      "62/62 [==============================] - 0s 1ms/step - loss: 0.5011 - accuracy: 0.7551 - val_loss: 0.5840 - val_accuracy: 0.7742\n",
      "Epoch 44/50\n",
      "62/62 [==============================] - 0s 1ms/step - loss: 0.5274 - accuracy: 0.7388 - val_loss: 0.5834 - val_accuracy: 0.7742\n",
      "Epoch 45/50\n",
      "62/62 [==============================] - 0s 2ms/step - loss: 0.4839 - accuracy: 0.7633 - val_loss: 0.5833 - val_accuracy: 0.7581\n",
      "Epoch 46/50\n",
      "62/62 [==============================] - 0s 1ms/step - loss: 0.4998 - accuracy: 0.7633 - val_loss: 0.6031 - val_accuracy: 0.7419\n",
      "Epoch 47/50\n",
      "62/62 [==============================] - 0s 2ms/step - loss: 0.4777 - accuracy: 0.7796 - val_loss: 0.6105 - val_accuracy: 0.7419\n",
      "Epoch 48/50\n",
      "62/62 [==============================] - 0s 2ms/step - loss: 0.4918 - accuracy: 0.7469 - val_loss: 0.5868 - val_accuracy: 0.7581\n",
      "Epoch 49/50\n",
      "62/62 [==============================] - 0s 1ms/step - loss: 0.4999 - accuracy: 0.7633 - val_loss: 0.6051 - val_accuracy: 0.7581\n",
      "Epoch 50/50\n",
      "62/62 [==============================] - 0s 2ms/step - loss: 0.4844 - accuracy: 0.7714 - val_loss: 0.6148 - val_accuracy: 0.7581\n",
      "3/3 [==============================] - 0s 2ms/step - loss: 0.6773 - accuracy: 0.6883\n",
      "Test Loss: 0.6772850751876831, Test Accuracy: 0.6883116960525513\n"
     ]
    }
   ],
   "source": [
    "model = keras.Sequential([\n",
    "    keras.layers.Dense(64, activation='relu', input_shape=(4,)),\n",
    "    keras.layers.Dense(32, activation='relu'),\n",
    "    keras.layers.Dense(1, activation='sigmoid')  # Output layer with sigmoid activation for binary classification\n",
    "])\n",
    "\n",
    "# Compile the model\n",
    "model.compile(optimizer='adam', loss='binary_crossentropy', metrics=['accuracy'])\n",
    "\n",
    "# Train the model\n",
    "model.fit(X_train, y_train, epochs=50, batch_size=4, validation_split=0.2)\n",
    "\n",
    "# Evaluate the model on the test set\n",
    "test_loss, test_accuracy = model.evaluate(X_test, y_test)\n",
    "print(f'Test Loss: {test_loss}, Test Accuracy: {test_accuracy}')"
   ]
  },
  {
   "cell_type": "markdown",
   "id": "e323fd89",
   "metadata": {},
   "source": [
    "# Data Augmentation: GAN"
   ]
  },
  {
   "cell_type": "code",
   "execution_count": 22,
   "id": "d92092ee",
   "metadata": {},
   "outputs": [
    {
     "name": "stdout",
     "output_type": "stream",
     "text": [
      "1/1 [==============================] - 0s 19ms/step\n",
      "Epoch: 0, Discriminator Loss: 0.627822995185852, Generator Loss: 0.6596895456314087\n",
      "1/1 [==============================] - 0s 16ms/step\n",
      "1/1 [==============================] - 0s 17ms/step\n",
      "1/1 [==============================] - 0s 17ms/step\n",
      "1/1 [==============================] - 0s 16ms/step\n",
      "1/1 [==============================] - 0s 16ms/step\n",
      "Convergence reached at epoch 5\n",
      "1/1 [==============================] - 0s 79ms/step\n",
      "Epoch: 0, Discriminator Loss: 0.678354024887085, Generator Loss: 0.6864889860153198\n",
      "1/1 [==============================] - 0s 18ms/step\n",
      "1/1 [==============================] - 0s 19ms/step\n",
      "1/1 [==============================] - 0s 16ms/step\n",
      "1/1 [==============================] - 0s 16ms/step\n",
      "1/1 [==============================] - 0s 17ms/step\n",
      "Convergence reached at epoch 5\n",
      "32/32 [==============================] - 0s 2ms/step\n"
     ]
    },
    {
     "data": {
      "text/plain": [
       "array([[0.45644355, 0.44533405, 0.30644184, 0.55709916],\n",
       "       [0.5169408 , 0.6264897 , 0.43746346, 0.3406163 ],\n",
       "       [0.70144   , 0.6294563 , 0.3164919 , 0.43979266],\n",
       "       ...,\n",
       "       [0.565954  , 0.47399348, 0.2992886 , 0.5573756 ],\n",
       "       [0.68463886, 0.45058566, 0.2922033 , 0.42820233],\n",
       "       [0.46010318, 0.5363767 , 0.4733422 , 0.59058756]], dtype=float32)"
      ]
     },
     "metadata": {},
     "output_type": "display_data"
    }
   ],
   "source": [
    "import numpy as np\n",
    "import matplotlib.pyplot as plt\n",
    "import pandas as pd\n",
    "from sklearn.model_selection import train_test_split\n",
    "from tensorflow import keras\n",
    "from tensorflow.keras import layers\n",
    "\n",
    "# Generator network\n",
    "def build_generator(latent_dim, num_features):\n",
    "    model = keras.Sequential([\n",
    "    layers.Dense(512, activation='relu', input_dim=latent_dim),  # Increase the number of neurons and depth\n",
    "    layers.BatchNormalization(),\n",
    "    layers.Dense(1024, activation='relu'),  # Increase the number of neurons and depth\n",
    "    layers.BatchNormalization(),\n",
    "    layers.Dense(512, activation='relu'),  # Increase the number of neurons and depth\n",
    "    layers.BatchNormalization(),\n",
    "    layers.Dense(num_features, activation='sigmoid')\n",
    "    ])\n",
    "    return model\n",
    "\n",
    "def build_discriminator(num_features):\n",
    "    model = keras.Sequential([\n",
    "        layers.Dense(1024, activation='relu', input_dim=num_features),  # Increase the number of neurons and depth\n",
    "        layers.Dropout(0.5),\n",
    "        layers.Dense(512, activation='relu'),  # Increase the number of neurons and depth\n",
    "        layers.Dropout(0.5),\n",
    "        layers.Dense(256, activation='relu'),  # Increase the number of neurons and depth\n",
    "        layers.Dropout(0.5),\n",
    "        layers.Dense(1, activation='sigmoid')\n",
    "    ])\n",
    "    return model\n",
    "\n",
    "# GAN model\n",
    "def build_gan(generator, discriminator):\n",
    "    discriminator.trainable = False\n",
    "    model = keras.Sequential([generator, discriminator])\n",
    "    return model\n",
    "\n",
    "# Training GAN\n",
    "def train_gan(generator, discriminator, gan, X_train, y_train, latent_dim, num_epochs=100, batch_size=32, logging_interval=1000, convergence_threshold=0.1, convergence_patience=5):\n",
    "    best_discriminator_loss = float('inf')\n",
    "    best_generator_loss = float('inf')\n",
    "    patience_counter = 0\n",
    "    \n",
    "    for epoch in range(num_epochs):\n",
    "        # Generate fake samples\n",
    "        noise = np.random.normal(0, 1, (batch_size, latent_dim))\n",
    "        generated_data = generator.predict(noise)\n",
    "        \n",
    "        # Select a random batch of real samples\n",
    "        idx = np.random.randint(0, X_train.shape[0], batch_size)\n",
    "        real_samples = X_train.iloc[idx]\n",
    "        \n",
    "        # Concatenate real and fake samples\n",
    "        X = np.concatenate([real_samples, generated_data])\n",
    "        \n",
    "        # Labels for real and fake samples\n",
    "        y_real = np.ones((batch_size, 1))\n",
    "        y_fake = np.zeros((batch_size, 1))\n",
    "        y = np.concatenate([y_real, y_fake])\n",
    "        \n",
    "        # Train discriminator\n",
    "        discriminator_loss = discriminator.train_on_batch(X, y)\n",
    "        \n",
    "        # Train generator\n",
    "        noise = np.random.normal(0, 1, (batch_size, latent_dim))\n",
    "        generator_loss = gan.train_on_batch(noise, y_real)\n",
    "        \n",
    "        # Logging\n",
    "        if epoch % logging_interval == 0:\n",
    "            print(f\"Epoch: {epoch}, Discriminator Loss: {discriminator_loss}, Generator Loss: {generator_loss}\")\n",
    "        \n",
    "        # Convergence monitoring\n",
    "        if discriminator_loss < best_discriminator_loss - convergence_threshold and generator_loss < best_generator_loss - convergence_threshold:\n",
    "            best_discriminator_loss = discriminator_loss\n",
    "            best_generator_loss = generator_loss\n",
    "            patience_counter = 0\n",
    "        else:\n",
    "            patience_counter += 1\n",
    "        \n",
    "        if patience_counter >= convergence_patience:\n",
    "            print(f\"Convergence reached at epoch {epoch}\")\n",
    "            break\n",
    "\n",
    "# Train GAN with convergence monitoring\n",
    "\n",
    "X_train, X_test, y_train, y_test = train_test_split(X, y, test_size=0.2, random_state=42)\n",
    "\n",
    "train_gan(generator, discriminator, gan, X_train, y_train, latent_dim)\n",
    "\n",
    "\n",
    "# Generate synthetic samples\n",
    "def generate_samples(generator, latent_dim, num_samples):\n",
    "    noise = np.random.normal(0, 1, (num_samples, latent_dim))\n",
    "    generated_data = generator.predict(noise)\n",
    "    return generated_data\n",
    "\n",
    "# Load data\n",
    "# Assuming your DataFrame is named df, and the target column is named 'abnormal'\n",
    "# Drop the target column to get the feature data\n",
    "# X = df.drop(columns=['normal']).values\n",
    "# y = df['normal'].values.reshape(-1, 1)\n",
    "\n",
    "# Split the data into training and testing sets\n",
    "\n",
    "# Parameters\n",
    "latent_dim = 100\n",
    "num_features = X_train.shape[1]\n",
    "\n",
    "# Build and compile models\n",
    "generator = build_generator(latent_dim, num_features)\n",
    "discriminator = build_discriminator(num_features)\n",
    "gan = build_gan(generator, discriminator)\n",
    "optimizer = Adam(learning_rate=0.0001)\n",
    "discriminator.compile(optimizer=optimizer, loss='binary_crossentropy')\n",
    "# discriminator.compile(optimizer='adam', loss='binary_crossentropy')\n",
    "gan.compile(optimizer='adam', loss='binary_crossentropy')\n",
    "\n",
    "# Train GAN\n",
    "train_gan(generator, discriminator, gan, X_train, y_train, latent_dim)\n",
    "\n",
    "# Generate samples\n",
    "generated_samples = generate_samples(generator, latent_dim, 1000)\n",
    "\n",
    "# Plot generated samples\n",
    "# plt.scatter(X_train.iloc[:, 0], X_train.iloc[:, 1], color='blue', alpha=0.5, label='Real Data')\n",
    "# plt.scatter(generated_samples[:, 0], generated_samples[:, 1], color='red', alpha=0.5, label='Generated Data')\n",
    "# plt.legend()\n",
    "# plt.show()\n",
    "\n",
    "display(generated_samples)\n"
   ]
  },
  {
   "cell_type": "code",
   "execution_count": 24,
   "id": "dc964323",
   "metadata": {},
   "outputs": [
    {
     "data": {
      "image/png": "[encoded data removed]",
      "text/plain": [
       "<Figure size 640x480 with 1 Axes>"
      ]
     },
     "metadata": {},
     "output_type": "display_data"
    }
   ],
   "source": [
    "plt.scatter(X_train.iloc[:, 0], X_train.iloc[:, 1], color='blue', alpha=0.5, label='Real Data')\n",
    "plt.scatter(generated_samples[:, 0], generated_samples[:, 1], color='red', alpha=0.5, label='Generated Data')\n",
    "plt.legend()\n",
    "plt.show()"
   ]
  },
  {
   "cell_type": "code",
   "execution_count": null,
   "id": "1eee5c41",
   "metadata": {},
   "outputs": [],
   "source": []
  },
  {
   "cell_type": "code",
   "execution_count": null,
   "id": "6d37172f",
   "metadata": {},
   "outputs": [],
   "source": []
  },
  {
   "cell_type": "code",
   "execution_count": null,
   "id": "ed64679a",
   "metadata": {},
   "outputs": [],
   "source": []
  },
  {
   "cell_type": "markdown",
   "id": "a28e9843",
   "metadata": {},
   "source": [
    "# Stratifying/Splitting Train Equally\n"
   ]
  },
  {
   "cell_type": "code",
   "execution_count": 22,
   "id": "5b4822c9",
   "metadata": {},
   "outputs": [
    {
     "data": {
      "text/html": [
       "<div>\n",
       "<style scoped>\n",
       "    .dataframe tbody tr th:only-of-type {\n",
       "        vertical-align: middle;\n",
       "    }\n",
       "\n",
       "    .dataframe tbody tr th {\n",
       "        vertical-align: top;\n",
       "    }\n",
       "\n",
       "    .dataframe thead th {\n",
       "        text-align: right;\n",
       "    }\n",
       "</style>\n",
       "<table border=\"1\" class=\"dataframe\">\n",
       "  <thead>\n",
       "    <tr style=\"text-align: right;\">\n",
       "      <th></th>\n",
       "      <th>AmplitudePrimary</th>\n",
       "      <th>AmplitudeSecondary</th>\n",
       "      <th>Latency</th>\n",
       "      <th>CorrectiveSaccade</th>\n",
       "      <th>Normal</th>\n",
       "    </tr>\n",
       "  </thead>\n",
       "  <tbody>\n",
       "    <tr>\n",
       "      <th>0</th>\n",
       "      <td>7.905335</td>\n",
       "      <td>0.907229</td>\n",
       "      <td>0.124998</td>\n",
       "      <td>7</td>\n",
       "      <td>0</td>\n",
       "    </tr>\n",
       "    <tr>\n",
       "      <th>1</th>\n",
       "      <td>17.381435</td>\n",
       "      <td>0.563108</td>\n",
       "      <td>0.341670</td>\n",
       "      <td>13</td>\n",
       "      <td>0</td>\n",
       "    </tr>\n",
       "    <tr>\n",
       "      <th>2</th>\n",
       "      <td>29.415535</td>\n",
       "      <td>1.097195</td>\n",
       "      <td>0.308346</td>\n",
       "      <td>16</td>\n",
       "      <td>0</td>\n",
       "    </tr>\n",
       "    <tr>\n",
       "      <th>3</th>\n",
       "      <td>10.173487</td>\n",
       "      <td>1.182019</td>\n",
       "      <td>0.175026</td>\n",
       "      <td>9</td>\n",
       "      <td>0</td>\n",
       "    </tr>\n",
       "    <tr>\n",
       "      <th>4</th>\n",
       "      <td>6.801426</td>\n",
       "      <td>7.733378</td>\n",
       "      <td>0.391700</td>\n",
       "      <td>28</td>\n",
       "      <td>0</td>\n",
       "    </tr>\n",
       "    <tr>\n",
       "      <th>...</th>\n",
       "      <td>...</td>\n",
       "      <td>...</td>\n",
       "      <td>...</td>\n",
       "      <td>...</td>\n",
       "      <td>...</td>\n",
       "    </tr>\n",
       "    <tr>\n",
       "      <th>187</th>\n",
       "      <td>3.948713</td>\n",
       "      <td>3.948713</td>\n",
       "      <td>0.033335</td>\n",
       "      <td>16</td>\n",
       "      <td>1</td>\n",
       "    </tr>\n",
       "    <tr>\n",
       "      <th>188</th>\n",
       "      <td>14.329194</td>\n",
       "      <td>3.160185</td>\n",
       "      <td>0.125025</td>\n",
       "      <td>6</td>\n",
       "      <td>1</td>\n",
       "    </tr>\n",
       "    <tr>\n",
       "      <th>189</th>\n",
       "      <td>19.042962</td>\n",
       "      <td>3.035957</td>\n",
       "      <td>0.525034</td>\n",
       "      <td>5</td>\n",
       "      <td>1</td>\n",
       "    </tr>\n",
       "    <tr>\n",
       "      <th>190</th>\n",
       "      <td>1.762336</td>\n",
       "      <td>2.942543</td>\n",
       "      <td>0.325038</td>\n",
       "      <td>15</td>\n",
       "      <td>1</td>\n",
       "    </tr>\n",
       "    <tr>\n",
       "      <th>191</th>\n",
       "      <td>31.529303</td>\n",
       "      <td>1.850806</td>\n",
       "      <td>0.508392</td>\n",
       "      <td>20</td>\n",
       "      <td>1</td>\n",
       "    </tr>\n",
       "  </tbody>\n",
       "</table>\n",
       "<p>192 rows × 5 columns</p>\n",
       "</div>"
      ],
      "text/plain": [
       "     AmplitudePrimary  AmplitudeSecondary   Latency  CorrectiveSaccade  Normal\n",
       "0            7.905335            0.907229  0.124998                  7       0\n",
       "1           17.381435            0.563108  0.341670                 13       0\n",
       "2           29.415535            1.097195  0.308346                 16       0\n",
       "3           10.173487            1.182019  0.175026                  9       0\n",
       "4            6.801426            7.733378  0.391700                 28       0\n",
       "..                ...                 ...       ...                ...     ...\n",
       "187          3.948713            3.948713  0.033335                 16       1\n",
       "188         14.329194            3.160185  0.125025                  6       1\n",
       "189         19.042962            3.035957  0.525034                  5       1\n",
       "190          1.762336            2.942543  0.325038                 15       1\n",
       "191         31.529303            1.850806  0.508392                 20       1\n",
       "\n",
       "[192 rows x 5 columns]"
      ]
     },
     "metadata": {},
     "output_type": "display_data"
    }
   ],
   "source": [
    "df = pd.read_csv(\"TestDataCompiled.csv\")\n",
    "df.columns = ['AmplitudePrimary', 'AmplitudeSecondary', 'Latency', \"CorrectiveSaccade\", \"Normal\"]\n",
    "display(df)\n",
    "df[\"Normal\"].value_counts()\n",
    "\n",
    "y = df.Normal\n",
    "X = df.drop('Normal', axis=1)\n",
    "\n"
   ]
  },
  {
   "cell_type": "code",
   "execution_count": 23,
   "id": "aa32bc19",
   "metadata": {},
   "outputs": [
    {
     "name": "stdout",
     "output_type": "stream",
     "text": [
      "(192,)\n",
      "Normal\n",
      "0    137\n",
      "1     55\n",
      "Name: count, dtype: int64\n",
      "(88, 4)\n",
      "(104, 4)\n"
     ]
    }
   ],
   "source": [
    "# \n",
    "print(y.shape)\n",
    "print(y.value_counts())\n",
    "\n",
    "\n",
    "train_y_count = int(0.8*55)\n",
    "arr_0 = y[y==0].index\n",
    "arr_1 = y[y==1].index\n",
    "\n",
    "indicies_0_train = np.random.choice(arr_0, size=train_y_count, replace=False)\n",
    "indicies_1_train = np.random.choice(arr_1, size=train_y_count, replace=False)\n",
    "concatenated_array = np.concatenate((indicies_0_train, indicies_1_train), axis=0)\n",
    "\n",
    "X_train = X.iloc[concatenated_array]\n",
    "y_train = y.iloc[concatenated_array]\n",
    "X_test = X.drop(concatenated_array)\n",
    "y_test = y.drop(concatenated_array)\n",
    "\n",
    "print(X_train.shape)\n",
    "print(X_test.shape)\n"
   ]
  },
  {
   "cell_type": "markdown",
   "id": "e8664363",
   "metadata": {},
   "source": [
    "## No Data Augmentation"
   ]
  },
  {
   "cell_type": "markdown",
   "id": "307c5b0f",
   "metadata": {},
   "source": [
    "### Random Forest"
   ]
  },
  {
   "cell_type": "code",
   "execution_count": 24,
   "id": "c2be2188",
   "metadata": {},
   "outputs": [
    {
     "name": "stdout",
     "output_type": "stream",
     "text": [
      "Best Parameters: {'max_depth': None, 'min_samples_leaf': 1, 'min_samples_split': 5, 'n_estimators': 200}\n",
      "Best Score: 0.5352941176470589\n"
     ]
    }
   ],
   "source": [
    "param_grid = {\n",
    "    'n_estimators': [100, 200, 300],  # Number of trees in the forest\n",
    "    'max_depth': [None, 10, 20, 30],   # Maximum depth of the trees\n",
    "    'min_samples_split': [2, 5, 10],   # Minimum number of samples required to split a node\n",
    "    'min_samples_leaf': [1, 2, 4]      # Minimum number of samples required at each leaf node\n",
    "}\n",
    "\n",
    "# Initialize the Random Forest model\n",
    "rf = RandomForestClassifier(random_state=42)\n",
    "\n",
    "# Perform grid search with 5-fold cross-validation\n",
    "grid_search = GridSearchCV(estimator=rf, param_grid=param_grid, cv=5, scoring='accuracy')\n",
    "\n",
    "# Fit the grid search to the training data\n",
    "grid_search.fit(X_train, y_train)\n",
    "\n",
    "# Get the best parameters and the best score\n",
    "best_params = grid_search.best_params_\n",
    "best_score = grid_search.best_score_\n",
    "\n",
    "print(\"Best Parameters:\", best_params)\n",
    "print(\"Best Score:\", best_score)"
   ]
  },
  {
   "cell_type": "code",
   "execution_count": 25,
   "id": "910adefd",
   "metadata": {},
   "outputs": [
    {
     "name": "stdout",
     "output_type": "stream",
     "text": [
      "Accuracy: 0.5192307692307693\n",
      "Classification Report:\n",
      "              precision    recall  f1-score   support\n",
      "\n",
      "           0       0.92      0.51      0.65        93\n",
      "           1       0.13      0.64      0.22        11\n",
      "\n",
      "    accuracy                           0.52       104\n",
      "   macro avg       0.53      0.57      0.44       104\n",
      "weighted avg       0.84      0.52      0.61       104\n",
      "\n"
     ]
    }
   ],
   "source": [
    "model = RandomForestClassifier(random_state=42, max_depth = None, n_estimators = 200, min_samples_leaf = 1, min_samples_split = 5)\n",
    "\n",
    "# Train the model\n",
    "model.fit(X_train, y_train)\n",
    "\n",
    "# Predict on the test set\n",
    "y_pred = model.predict(X_test)\n",
    "\n",
    "# Calculate accuracy\n",
    "accuracy = accuracy_score(y_test, y_pred)\n",
    "print(\"Accuracy:\", accuracy)\n",
    "\n",
    "# Print classification report\n",
    "print(\"Classification Report:\")\n",
    "print(classification_report(y_test, y_pred))"
   ]
  },
  {
   "cell_type": "markdown",
   "id": "5ce77a3a",
   "metadata": {},
   "source": [
    "## Data Augmentation: Gaussian Noise"
   ]
  },
  {
   "cell_type": "code",
   "execution_count": 29,
   "id": "3c66a951",
   "metadata": {},
   "outputs": [],
   "source": [
    "def add_gaussian_noise(X, mean=0, std=0.1):\n",
    "    noise = np.random.normal(mean, std, size=X.shape)\n",
    "    return X + noise\n",
    "# Example: Adding Gaussian noise with mean=0 and std=0.1\n",
    "X_with_gaussian_noise = add_gaussian_noise(X)\n",
    "X_augmented = pd.concat([X, X_with_gaussian_noise])\n",
    "y_augmented = pd.concat([y,y])\n",
    "# X_train, X_test, y_train, y_test = train_test_split(X_augmented, y_augmented, test_size=0.2, random_state=42, stratify = y_augmented)\n",
    "\n",
    "train_y_count = int(0.8*55)\n",
    "arr_0 = y_augmented[y_augmented==0].index\n",
    "arr_1 = y_augmented[y_augmented==1].index\n",
    "\n",
    "indicies_0_train = np.random.choice(arr_0, size=train_y_count, replace=False)\n",
    "indicies_1_train = np.random.choice(arr_1, size=train_y_count, replace=False)\n",
    "concatenated_array = np.concatenate((indicies_0_train, indicies_1_train), axis=0)\n",
    "\n",
    "X_train = X_augmented.iloc[concatenated_array]\n",
    "y_train = y_augmented.iloc[concatenated_array]\n",
    "X_test = X_augmented.drop(concatenated_array)\n",
    "y_test = y_augmented.drop(concatenated_array)"
   ]
  },
  {
   "cell_type": "markdown",
   "id": "d780398f",
   "metadata": {},
   "source": [
    "### SVM"
   ]
  },
  {
   "cell_type": "code",
   "execution_count": 30,
   "id": "6a40a4ef",
   "metadata": {},
   "outputs": [
    {
     "name": "stdout",
     "output_type": "stream",
     "text": [
      "Best Parameters: {'C': 10, 'gamma': 0.1}\n",
      "Best Score: 0.6712418300653595\n"
     ]
    }
   ],
   "source": [
    "param_grid = {\n",
    "    'C': [0.1, 1, 10, 100],           # Regularization parameter\n",
    "    'gamma': [1, 0.1, 0.01, 0.001]   # Kernel coefficient for 'rbf' and 'poly' kernels\n",
    "#     'kernel': ['rbf', 'poly', 'linear']  # Kernel type\n",
    "}\n",
    "\n",
    "# Initialize the SVM model\n",
    "svm = SVC(random_state=42)\n",
    "\n",
    "# Perform grid search with 5-fold cross-validation\n",
    "grid_search = GridSearchCV(estimator=svm, param_grid=param_grid, cv=5, scoring='accuracy')\n",
    "\n",
    "# Fit the grid search to the training data\n",
    "grid_search.fit(X_train, y_train)\n",
    "\n",
    "# Get the best parameters and the best score\n",
    "best_params = grid_search.best_params_\n",
    "best_score = grid_search.best_score_\n",
    "\n",
    "print(\"Best Parameters:\", best_params)\n",
    "print(\"Best Score:\", best_score)"
   ]
  },
  {
   "cell_type": "code",
   "execution_count": 31,
   "id": "5a69a1a4",
   "metadata": {},
   "outputs": [
    {
     "name": "stdout",
     "output_type": "stream",
     "text": [
      "Accuracy: 0.5504201680672269\n",
      "Classification Report:\n",
      "              precision    recall  f1-score   support\n",
      "\n",
      "           0       0.77      0.62      0.69       190\n",
      "           1       0.16      0.29      0.21        48\n",
      "\n",
      "    accuracy                           0.55       238\n",
      "   macro avg       0.47      0.45      0.45       238\n",
      "weighted avg       0.65      0.55      0.59       238\n",
      "\n"
     ]
    }
   ],
   "source": [
    "model = SVC(kernel='rbf', random_state=42, C = 10, gamma = 0.1)  # You can choose different kernels such as 'linear', 'poly', 'rbf', etc.\n",
    "\n",
    "# Train the model\n",
    "model.fit(X_train, y_train)\n",
    "\n",
    "# Predict on the test set\n",
    "y_pred = model.predict(X_test)\n",
    "\n",
    "# Calculate accuracy\n",
    "accuracy = accuracy_score(y_test, y_pred)\n",
    "print(\"Accuracy:\", accuracy)\n",
    "\n",
    "# Print classification report\n",
    "print(\"Classification Report:\")\n",
    "print(classification_report(y_test, y_pred))"
   ]
  },
  {
   "cell_type": "markdown",
   "id": "9c822d6d",
   "metadata": {},
   "source": [
    "### Random Forest"
   ]
  },
  {
   "cell_type": "code",
   "execution_count": 32,
   "id": "756aeebe",
   "metadata": {},
   "outputs": [
    {
     "name": "stdout",
     "output_type": "stream",
     "text": [
      "Best Parameters: {'max_depth': None, 'min_samples_leaf': 2, 'min_samples_split': 2, 'n_estimators': 100}\n",
      "Best Score: 0.7509803921568627\n"
     ]
    }
   ],
   "source": [
    "param_grid = {\n",
    "    'n_estimators': [100, 200, 300],  # Number of trees in the forest\n",
    "    'max_depth': [None, 10, 20, 30],   # Maximum depth of the trees\n",
    "    'min_samples_split': [2, 5, 10],   # Minimum number of samples required to split a node\n",
    "    'min_samples_leaf': [1, 2, 4]      # Minimum number of samples required at each leaf node\n",
    "}\n",
    "\n",
    "# Initialize the Random Forest model\n",
    "rf = RandomForestClassifier(random_state=42)\n",
    "\n",
    "# Perform grid search with 5-fold cross-validation\n",
    "grid_search = GridSearchCV(estimator=rf, param_grid=param_grid, cv=5, scoring='accuracy')\n",
    "\n",
    "# Fit the grid search to the training data\n",
    "grid_search.fit(X_train, y_train)\n",
    "\n",
    "# Get the best parameters and the best score\n",
    "best_params = grid_search.best_params_\n",
    "best_score = grid_search.best_score_\n",
    "\n",
    "print(\"Best Parameters:\", best_params)\n",
    "print(\"Best Score:\", best_score)"
   ]
  },
  {
   "cell_type": "code",
   "execution_count": 33,
   "id": "cdff9782",
   "metadata": {},
   "outputs": [
    {
     "name": "stdout",
     "output_type": "stream",
     "text": [
      "Accuracy: 0.5798319327731093\n",
      "Classification Report:\n",
      "              precision    recall  f1-score   support\n",
      "\n",
      "           0       0.81      0.62      0.70       190\n",
      "           1       0.22      0.44      0.30        48\n",
      "\n",
      "    accuracy                           0.58       238\n",
      "   macro avg       0.52      0.53      0.50       238\n",
      "weighted avg       0.69      0.58      0.62       238\n",
      "\n"
     ]
    }
   ],
   "source": [
    "model = RandomForestClassifier(random_state=42, max_depth = None, n_estimators = 100, min_samples_leaf = 2, min_samples_split = 2)\n",
    "\n",
    "# Train the model\n",
    "model.fit(X_train, y_train)\n",
    "\n",
    "# Predict on the test set\n",
    "y_pred = model.predict(X_test)\n",
    "\n",
    "# Calculate accuracy\n",
    "accuracy = accuracy_score(y_test, y_pred)\n",
    "print(\"Accuracy:\", accuracy)\n",
    "\n",
    "# Print classification report\n",
    "print(\"Classification Report:\")\n",
    "print(classification_report(y_test, y_pred))"
   ]
  },
  {
   "cell_type": "markdown",
   "id": "ecdcc281",
   "metadata": {},
   "source": [
    "## Data Augmentation: Jittering"
   ]
  },
  {
   "cell_type": "code",
   "execution_count": 34,
   "id": "6dd55642",
   "metadata": {},
   "outputs": [],
   "source": [
    "def add_jittering(X, magnitude=0.1):\n",
    "    jitter = np.random.uniform(-magnitude, magnitude, size=X.shape)\n",
    "    return X + jitter\n",
    "\n",
    "# Example: Adding jittering with magnitude=0.1\n",
    "X_with_jittering = add_jittering(X)\n",
    "X_augmented = pd.concat([X, X_with_jittering])\n",
    "y_augmented = pd.concat([y,y])\n",
    "# X_train, X_test, y_train, y_test = train_test_split(X_augmented, y_augmented, test_size=0.2, random_state=42, stratify = y_augmented)\n",
    "\n",
    "train_y_count = int(0.8*55)\n",
    "arr_0 = y_augmented[y_augmented==0].index\n",
    "arr_1 = y_augmented[y_augmented==1].index\n",
    "\n",
    "indicies_0_train = np.random.choice(arr_0, size=train_y_count, replace=False)\n",
    "indicies_1_train = np.random.choice(arr_1, size=train_y_count, replace=False)\n",
    "concatenated_array = np.concatenate((indicies_0_train, indicies_1_train), axis=0)\n",
    "\n",
    "X_train = X_augmented.iloc[concatenated_array]\n",
    "y_train = y_augmented.iloc[concatenated_array]\n",
    "X_test = X_augmented.drop(concatenated_array)\n",
    "y_test = y_augmented.drop(concatenated_array)"
   ]
  },
  {
   "cell_type": "markdown",
   "id": "aaffa347",
   "metadata": {},
   "source": [
    "### SVM"
   ]
  },
  {
   "cell_type": "code",
   "execution_count": 35,
   "id": "8a0a27e7",
   "metadata": {},
   "outputs": [
    {
     "name": "stdout",
     "output_type": "stream",
     "text": [
      "Best Parameters: {'C': 1, 'gamma': 1}\n",
      "Best Score: 0.6464052287581699\n"
     ]
    }
   ],
   "source": [
    "param_grid = {\n",
    "    'C': [0.1, 1, 10, 100],           # Regularization parameter\n",
    "    'gamma': [1, 0.1, 0.01, 0.001]   # Kernel coefficient for 'rbf' and 'poly' kernels\n",
    "#     'kernel': ['rbf', 'poly', 'linear']  # Kernel type\n",
    "}\n",
    "\n",
    "# Initialize the SVM model\n",
    "svm = SVC(random_state=42)\n",
    "\n",
    "# Perform grid search with 5-fold cross-validation\n",
    "grid_search = GridSearchCV(estimator=svm, param_grid=param_grid, cv=5, scoring='accuracy')\n",
    "\n",
    "# Fit the grid search to the training data\n",
    "grid_search.fit(X_train, y_train)\n",
    "\n",
    "# Get the best parameters and the best score\n",
    "best_params = grid_search.best_params_\n",
    "best_score = grid_search.best_score_\n",
    "\n",
    "print(\"Best Parameters:\", best_params)\n",
    "print(\"Best Score:\", best_score)"
   ]
  },
  {
   "cell_type": "code",
   "execution_count": 36,
   "id": "67d9b3c4",
   "metadata": {},
   "outputs": [
    {
     "name": "stdout",
     "output_type": "stream",
     "text": [
      "Accuracy: 0.7920353982300885\n",
      "Classification Report:\n",
      "              precision    recall  f1-score   support\n",
      "\n",
      "           0       0.82      0.95      0.88       188\n",
      "           1       0.00      0.00      0.00        38\n",
      "\n",
      "    accuracy                           0.79       226\n",
      "   macro avg       0.41      0.48      0.44       226\n",
      "weighted avg       0.69      0.79      0.74       226\n",
      "\n"
     ]
    }
   ],
   "source": [
    "model = SVC(kernel='rbf', random_state=42, C = 1, gamma = 1)  # You can choose different kernels such as 'linear', 'poly', 'rbf', etc.\n",
    "\n",
    "# Train the model\n",
    "model.fit(X_train, y_train)\n",
    "\n",
    "# Predict on the test set\n",
    "y_pred = model.predict(X_test)\n",
    "\n",
    "# Calculate accuracy\n",
    "accuracy = accuracy_score(y_test, y_pred)\n",
    "print(\"Accuracy:\", accuracy)\n",
    "\n",
    "# Print classification report\n",
    "print(\"Classification Report:\")\n",
    "print(classification_report(y_test, y_pred))"
   ]
  },
  {
   "cell_type": "markdown",
   "id": "a8c7695b",
   "metadata": {},
   "source": [
    "### RF"
   ]
  },
  {
   "cell_type": "code",
   "execution_count": 37,
   "id": "b8b0fde1",
   "metadata": {},
   "outputs": [
    {
     "name": "stdout",
     "output_type": "stream",
     "text": [
      "Best Parameters: {'max_depth': None, 'min_samples_leaf': 1, 'min_samples_split': 2, 'n_estimators': 100}\n",
      "Best Score: 0.6372549019607844\n"
     ]
    }
   ],
   "source": [
    "param_grid = {\n",
    "    'n_estimators': [100, 200, 300],  # Number of trees in the forest\n",
    "    'max_depth': [None, 10, 20, 30],   # Maximum depth of the trees\n",
    "    'min_samples_split': [2, 5, 10],   # Minimum number of samples required to split a node\n",
    "    'min_samples_leaf': [1, 2, 4]      # Minimum number of samples required at each leaf node\n",
    "}\n",
    "\n",
    "# Initialize the Random Forest model\n",
    "rf = RandomForestClassifier(random_state=42)\n",
    "\n",
    "# Perform grid search with 5-fold cross-validation\n",
    "grid_search = GridSearchCV(estimator=rf, param_grid=param_grid, cv=5, scoring='accuracy')\n",
    "\n",
    "# Fit the grid search to the training data\n",
    "grid_search.fit(X_train, y_train)\n",
    "\n",
    "# Get the best parameters and the best score\n",
    "best_params = grid_search.best_params_\n",
    "best_score = grid_search.best_score_\n",
    "\n",
    "print(\"Best Parameters:\", best_params)\n",
    "print(\"Best Score:\", best_score)"
   ]
  },
  {
   "cell_type": "code",
   "execution_count": 38,
   "id": "af4b2386",
   "metadata": {},
   "outputs": [
    {
     "name": "stdout",
     "output_type": "stream",
     "text": [
      "Accuracy: 0.5265486725663717\n",
      "Classification Report:\n",
      "              precision    recall  f1-score   support\n",
      "\n",
      "           0       0.85      0.53      0.65       188\n",
      "           1       0.18      0.53      0.27        38\n",
      "\n",
      "    accuracy                           0.53       226\n",
      "   macro avg       0.51      0.53      0.46       226\n",
      "weighted avg       0.73      0.53      0.59       226\n",
      "\n"
     ]
    }
   ],
   "source": [
    "model = RandomForestClassifier(random_state=42, max_depth = None, n_estimators = 100, min_samples_leaf = 1, min_samples_split = 2)\n",
    "\n",
    "# Train the model\n",
    "model.fit(X_train, y_train)\n",
    "\n",
    "# Predict on the test set\n",
    "y_pred = model.predict(X_test)\n",
    "\n",
    "# Calculate accuracy\n",
    "accuracy = accuracy_score(y_test, y_pred)\n",
    "print(\"Accuracy:\", accuracy)\n",
    "\n",
    "# Print classification report\n",
    "print(\"Classification Report:\")\n",
    "print(classification_report(y_test, y_pred))"
   ]
  },
  {
   "cell_type": "code",
   "execution_count": null,
   "id": "2a3f8d9b",
   "metadata": {},
   "outputs": [],
   "source": []
  }
 ],
 "metadata": {
  "kernelspec": {
   "display_name": "Python 3 (ipykernel)",
   "language": "python",
   "name": "python3"
  },
  "language_info": {
   "codemirror_mode": {
    "name": "ipython",
    "version": 3
   },
   "file_extension": ".py",
   "mimetype": "text/x-python",
   "name": "python",
   "nbconvert_exporter": "python",
   "pygments_lexer": "ipython3",
   "version": "3.11.5"
  }
 },
 "nbformat": 4,
 "nbformat_minor": 5
}
