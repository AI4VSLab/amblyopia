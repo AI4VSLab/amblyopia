{
 "cells": [
  {
   "cell_type": "code",
   "execution_count": 11,
   "id": "39b78f9e",
   "metadata": {},
   "outputs": [],
   "source": [
    "import pandas as pd\n",
    "import numpy as np\n",
    "from sklearn.model_selection import train_test_split\n",
    "from sklearn.linear_model import LogisticRegression\n",
    "from sklearn.metrics import accuracy_score, classification_report\n",
    "from sklearn.ensemble import RandomForestClassifier\n",
    "from sklearn.model_selection import GridSearchCV\n",
    "from sklearn.svm import SVC\n",
    "import tsgm\n",
    "from tensorflow.keras.optimizers import Adam\n",
    "\n",
    "from keras.models import Sequential\n",
    "from keras.layers import LSTM, Dense\n",
    "\n",
    "import keras\n"
   ]
  },
  {
   "cell_type": "code",
   "execution_count": null,
   "id": "68d83ed9",
   "metadata": {},
   "outputs": [],
   "source": []
  },
  {
   "cell_type": "code",
   "execution_count": 2,
   "id": "be27e30d",
   "metadata": {},
   "outputs": [
    {
     "name": "stdout",
     "output_type": "stream",
     "text": [
      "             0         1         2     3    4\n",
      "0     7.905335  0.907229  0.124998   7.0  0.0\n",
      "1    17.381435  0.563108  0.341670  13.0  0.0\n",
      "2    29.415535  1.097195  0.308346  16.0  0.0\n",
      "3    10.173487  1.182019  0.175026   9.0  0.0\n",
      "4     6.801426  7.733378  0.391700  28.0  0.0\n",
      "..         ...       ...       ...   ...  ...\n",
      "238  10.272048  1.115520  0.275021  10.0  1.0\n",
      "239  23.646621  6.660983  0.000025  16.0  1.0\n",
      "240   6.281954  0.400970  0.091699  15.0  1.0\n",
      "241   9.421117  0.646527  0.041703  30.0  1.0\n",
      "242  17.369912  1.652808  0.091714  34.0  1.0\n",
      "\n",
      "[243 rows x 5 columns]\n"
     ]
    },
    {
     "data": {
      "text/html": [
       "<div>\n",
       "<style scoped>\n",
       "    .dataframe tbody tr th:only-of-type {\n",
       "        vertical-align: middle;\n",
       "    }\n",
       "\n",
       "    .dataframe tbody tr th {\n",
       "        vertical-align: top;\n",
       "    }\n",
       "\n",
       "    .dataframe thead th {\n",
       "        text-align: right;\n",
       "    }\n",
       "</style>\n",
       "<table border=\"1\" class=\"dataframe\">\n",
       "  <thead>\n",
       "    <tr style=\"text-align: right;\">\n",
       "      <th></th>\n",
       "      <th>AmplitudePrimary</th>\n",
       "      <th>AmplitudeSecondary</th>\n",
       "      <th>Latency</th>\n",
       "      <th>CorrectiveSaccade</th>\n",
       "      <th>Normal</th>\n",
       "    </tr>\n",
       "  </thead>\n",
       "  <tbody>\n",
       "    <tr>\n",
       "      <th>0</th>\n",
       "      <td>7.905335</td>\n",
       "      <td>0.907229</td>\n",
       "      <td>0.124998</td>\n",
       "      <td>7.0</td>\n",
       "      <td>0.0</td>\n",
       "    </tr>\n",
       "    <tr>\n",
       "      <th>1</th>\n",
       "      <td>17.381435</td>\n",
       "      <td>0.563108</td>\n",
       "      <td>0.341670</td>\n",
       "      <td>13.0</td>\n",
       "      <td>0.0</td>\n",
       "    </tr>\n",
       "    <tr>\n",
       "      <th>2</th>\n",
       "      <td>29.415535</td>\n",
       "      <td>1.097195</td>\n",
       "      <td>0.308346</td>\n",
       "      <td>16.0</td>\n",
       "      <td>0.0</td>\n",
       "    </tr>\n",
       "    <tr>\n",
       "      <th>3</th>\n",
       "      <td>10.173487</td>\n",
       "      <td>1.182019</td>\n",
       "      <td>0.175026</td>\n",
       "      <td>9.0</td>\n",
       "      <td>0.0</td>\n",
       "    </tr>\n",
       "    <tr>\n",
       "      <th>4</th>\n",
       "      <td>6.801426</td>\n",
       "      <td>7.733378</td>\n",
       "      <td>0.391700</td>\n",
       "      <td>28.0</td>\n",
       "      <td>0.0</td>\n",
       "    </tr>\n",
       "    <tr>\n",
       "      <th>...</th>\n",
       "      <td>...</td>\n",
       "      <td>...</td>\n",
       "      <td>...</td>\n",
       "      <td>...</td>\n",
       "      <td>...</td>\n",
       "    </tr>\n",
       "    <tr>\n",
       "      <th>238</th>\n",
       "      <td>10.272048</td>\n",
       "      <td>1.115520</td>\n",
       "      <td>0.275021</td>\n",
       "      <td>10.0</td>\n",
       "      <td>1.0</td>\n",
       "    </tr>\n",
       "    <tr>\n",
       "      <th>239</th>\n",
       "      <td>23.646621</td>\n",
       "      <td>6.660983</td>\n",
       "      <td>0.000025</td>\n",
       "      <td>16.0</td>\n",
       "      <td>1.0</td>\n",
       "    </tr>\n",
       "    <tr>\n",
       "      <th>240</th>\n",
       "      <td>6.281954</td>\n",
       "      <td>0.400970</td>\n",
       "      <td>0.091699</td>\n",
       "      <td>15.0</td>\n",
       "      <td>1.0</td>\n",
       "    </tr>\n",
       "    <tr>\n",
       "      <th>241</th>\n",
       "      <td>9.421117</td>\n",
       "      <td>0.646527</td>\n",
       "      <td>0.041703</td>\n",
       "      <td>30.0</td>\n",
       "      <td>1.0</td>\n",
       "    </tr>\n",
       "    <tr>\n",
       "      <th>242</th>\n",
       "      <td>17.369912</td>\n",
       "      <td>1.652808</td>\n",
       "      <td>0.091714</td>\n",
       "      <td>34.0</td>\n",
       "      <td>1.0</td>\n",
       "    </tr>\n",
       "  </tbody>\n",
       "</table>\n",
       "<p>243 rows × 5 columns</p>\n",
       "</div>"
      ],
      "text/plain": [
       "     AmplitudePrimary  AmplitudeSecondary   Latency  CorrectiveSaccade  Normal\n",
       "0            7.905335            0.907229  0.124998                7.0     0.0\n",
       "1           17.381435            0.563108  0.341670               13.0     0.0\n",
       "2           29.415535            1.097195  0.308346               16.0     0.0\n",
       "3           10.173487            1.182019  0.175026                9.0     0.0\n",
       "4            6.801426            7.733378  0.391700               28.0     0.0\n",
       "..                ...                 ...       ...                ...     ...\n",
       "238         10.272048            1.115520  0.275021               10.0     1.0\n",
       "239         23.646621            6.660983  0.000025               16.0     1.0\n",
       "240          6.281954            0.400970  0.091699               15.0     1.0\n",
       "241          9.421117            0.646527  0.041703               30.0     1.0\n",
       "242         17.369912            1.652808  0.091714               34.0     1.0\n",
       "\n",
       "[243 rows x 5 columns]"
      ]
     },
     "metadata": {},
     "output_type": "display_data"
    },
    {
     "data": {
      "text/plain": [
       "Normal\n",
       "0.0    137\n",
       "1.0    106\n",
       "Name: count, dtype: int64"
      ]
     },
     "execution_count": 2,
     "metadata": {},
     "output_type": "execute_result"
    }
   ],
   "source": [
    "df = pd.read_csv(\"NewTestDataCompiled.csv\")\n",
    "print(df)\n",
    "df.columns = ['AmplitudePrimary', 'AmplitudeSecondary', 'Latency', \"CorrectiveSaccade\", \"Normal\"]\n",
    "display(df)\n",
    "df[\"Normal\"].value_counts()\n",
    "\n"
   ]
  },
  {
   "cell_type": "markdown",
   "id": "81402f19",
   "metadata": {},
   "source": [
    "# No Data Augmentation"
   ]
  },
  {
   "cell_type": "code",
   "execution_count": 3,
   "id": "1c05b41b",
   "metadata": {},
   "outputs": [],
   "source": [
    "y = df.Normal\n",
    "X = df.drop('Normal', axis=1)\n",
    "\n",
    "X_train, X_test, y_train, y_test = train_test_split(X, y, test_size=0.2, random_state=42, stratify = y)"
   ]
  },
  {
   "cell_type": "markdown",
   "id": "ae86ebb8",
   "metadata": {},
   "source": [
    "### Logsitic Regression"
   ]
  },
  {
   "cell_type": "code",
   "execution_count": 4,
   "id": "25264ed3",
   "metadata": {},
   "outputs": [
    {
     "name": "stdout",
     "output_type": "stream",
     "text": [
      "Accuracy: 0.6122448979591837\n",
      "Classification Report:\n",
      "              precision    recall  f1-score   support\n",
      "\n",
      "         0.0       0.61      0.89      0.72        28\n",
      "         1.0       0.62      0.24      0.34        21\n",
      "\n",
      "    accuracy                           0.61        49\n",
      "   macro avg       0.62      0.57      0.53        49\n",
      "weighted avg       0.62      0.61      0.56        49\n",
      "\n"
     ]
    }
   ],
   "source": [
    "model = LogisticRegression()\n",
    "\n",
    "# Train the model\n",
    "model.fit(X_train, y_train)\n",
    "\n",
    "# Predict on the test set\n",
    "y_pred = model.predict(X_test)\n",
    "\n",
    "# Calculate accuracy\n",
    "accuracy = accuracy_score(y_test, y_pred)\n",
    "print(\"Accuracy:\", accuracy)\n",
    "\n",
    "# Print classification report\n",
    "print(\"Classification Report:\")\n",
    "print(classification_report(y_test, y_pred))"
   ]
  },
  {
   "cell_type": "code",
   "execution_count": 5,
   "id": "306f0b89",
   "metadata": {},
   "outputs": [
    {
     "data": {
      "text/plain": [
       "array([0., 1., 0., 0., 1., 0., 0., 1., 0., 0., 0., 0., 0., 0., 0., 0., 0.,\n",
       "       0., 0., 0., 0., 1., 0., 0., 1., 0., 0., 1., 0., 0., 1., 1., 0., 0.,\n",
       "       0., 0., 0., 0., 0., 0., 0., 0., 0., 0., 0., 0., 0., 0., 0.])"
      ]
     },
     "metadata": {},
     "output_type": "display_data"
    },
    {
     "data": {
      "text/plain": [
       "126    0.0\n",
       "103    0.0\n",
       "52     0.0\n",
       "87     0.0\n",
       "37     0.0\n",
       "187    1.0\n",
       "139    1.0\n",
       "215    1.0\n",
       "116    0.0\n",
       "128    0.0\n",
       "151    1.0\n",
       "178    1.0\n",
       "74     0.0\n",
       "2      0.0\n",
       "145    1.0\n",
       "107    0.0\n",
       "140    1.0\n",
       "71     0.0\n",
       "131    0.0\n",
       "92     0.0\n",
       "106    0.0\n",
       "163    1.0\n",
       "1      0.0\n",
       "20     0.0\n",
       "213    1.0\n",
       "32     0.0\n",
       "63     0.0\n",
       "29     0.0\n",
       "121    0.0\n",
       "199    1.0\n",
       "188    1.0\n",
       "141    1.0\n",
       "226    1.0\n",
       "137    1.0\n",
       "150    1.0\n",
       "159    1.0\n",
       "237    1.0\n",
       "102    0.0\n",
       "23     0.0\n",
       "214    1.0\n",
       "183    1.0\n",
       "236    1.0\n",
       "99     0.0\n",
       "14     0.0\n",
       "21     0.0\n",
       "59     0.0\n",
       "231    1.0\n",
       "136    0.0\n",
       "118    0.0\n",
       "Name: Normal, dtype: float64"
      ]
     },
     "metadata": {},
     "output_type": "display_data"
    },
    {
     "name": "stdout",
     "output_type": "stream",
     "text": [
      "49\n"
     ]
    }
   ],
   "source": [
    "display(y_pred)\n",
    "display(y_test)\n",
    "print(len(y_pred))"
   ]
  },
  {
   "cell_type": "markdown",
   "id": "c5e72667",
   "metadata": {},
   "source": [
    "### Random Forest"
   ]
  },
  {
   "cell_type": "code",
   "execution_count": 6,
   "id": "fda3ae25",
   "metadata": {},
   "outputs": [
    {
     "name": "stdout",
     "output_type": "stream",
     "text": [
      "Accuracy: 0.6326530612244898\n",
      "Classification Report:\n",
      "              precision    recall  f1-score   support\n",
      "\n",
      "         0.0       0.67      0.71      0.69        28\n",
      "         1.0       0.58      0.52      0.55        21\n",
      "\n",
      "    accuracy                           0.63        49\n",
      "   macro avg       0.62      0.62      0.62        49\n",
      "weighted avg       0.63      0.63      0.63        49\n",
      "\n"
     ]
    }
   ],
   "source": [
    "model = RandomForestClassifier(random_state=42, max_depth = None, n_estimators = 300, min_samples_leaf = 4, min_samples_split = 10)\n",
    "\n",
    "# Train the model\n",
    "model.fit(X_train, y_train)\n",
    "\n",
    "# Predict on the test set\n",
    "y_pred = model.predict(X_test)\n",
    "\n",
    "# Calculate accuracy\n",
    "accuracy = accuracy_score(y_test, y_pred)\n",
    "print(\"Accuracy:\", accuracy)\n",
    "\n",
    "# Print classification report\n",
    "print(\"Classification Report:\")\n",
    "print(classification_report(y_test, y_pred))"
   ]
  },
  {
   "cell_type": "code",
   "execution_count": 7,
   "id": "bde0098a",
   "metadata": {},
   "outputs": [
    {
     "name": "stdout",
     "output_type": "stream",
     "text": [
      "Best Parameters: {'max_depth': None, 'min_samples_leaf': 4, 'min_samples_split': 10, 'n_estimators': 300}\n",
      "Best Score: 0.5157894736842106\n"
     ]
    }
   ],
   "source": [
    "param_grid = {\n",
    "    'n_estimators': [100, 200, 300],  # Number of trees in the forest\n",
    "    'max_depth': [None, 10, 20, 30],   # Maximum depth of the trees\n",
    "    'min_samples_split': [2, 5, 10],   # Minimum number of samples required to split a node\n",
    "    'min_samples_leaf': [1, 2, 4]      # Minimum number of samples required at each leaf node\n",
    "}\n",
    "\n",
    "# Initialize the Random Forest model\n",
    "rf = RandomForestClassifier(random_state=42)\n",
    "\n",
    "# Perform grid search with 5-fold cross-validation\n",
    "grid_search = GridSearchCV(estimator=rf, param_grid=param_grid, cv=5, scoring='accuracy')\n",
    "\n",
    "# Fit the grid search to the training data\n",
    "grid_search.fit(X_train, y_train)\n",
    "\n",
    "# Get the best parameters and the best score\n",
    "best_params = grid_search.best_params_\n",
    "best_score = grid_search.best_score_\n",
    "\n",
    "print(\"Best Parameters:\", best_params)\n",
    "print(\"Best Score:\", best_score)"
   ]
  },
  {
   "cell_type": "markdown",
   "id": "719b222e",
   "metadata": {},
   "source": [
    "### SVM "
   ]
  },
  {
   "cell_type": "code",
   "execution_count": 8,
   "id": "7b91f240",
   "metadata": {},
   "outputs": [
    {
     "name": "stdout",
     "output_type": "stream",
     "text": [
      "Best Parameters: {'C': 0.1, 'gamma': 1}\n",
      "Best Score: 0.561808367071525\n"
     ]
    }
   ],
   "source": [
    "param_grid = {\n",
    "    'C': [0.1, 1, 10, 100],           # Regularization parameter\n",
    "    'gamma': [1, 0.1, 0.01, 0.001]   # Kernel coefficient for 'rbf' and 'poly' kernels\n",
    "#     'kernel': ['rbf', 'poly', 'linear']  # Kernel type\n",
    "}\n",
    "\n",
    "# Initialize the SVM model\n",
    "svm = SVC(random_state=42)\n",
    "\n",
    "# Perform grid search with 5-fold cross-validation\n",
    "grid_search = GridSearchCV(estimator=svm, param_grid=param_grid, cv=5, scoring='accuracy')\n",
    "\n",
    "# Fit the grid search to the training data\n",
    "grid_search.fit(X_train, y_train)\n",
    "\n",
    "# Get the best parameters and the best score\n",
    "best_params = grid_search.best_params_\n",
    "best_score = grid_search.best_score_\n",
    "\n",
    "print(\"Best Parameters:\", best_params)\n",
    "print(\"Best Score:\", best_score)\n"
   ]
  },
  {
   "cell_type": "code",
   "execution_count": 9,
   "id": "74cc4e1c",
   "metadata": {},
   "outputs": [
    {
     "name": "stdout",
     "output_type": "stream",
     "text": [
      "Accuracy: 0.5714285714285714\n",
      "Classification Report:\n",
      "              precision    recall  f1-score   support\n",
      "\n",
      "         0.0       0.57      1.00      0.73        28\n",
      "         1.0       0.00      0.00      0.00        21\n",
      "\n",
      "    accuracy                           0.57        49\n",
      "   macro avg       0.29      0.50      0.36        49\n",
      "weighted avg       0.33      0.57      0.42        49\n",
      "\n"
     ]
    },
    {
     "name": "stderr",
     "output_type": "stream",
     "text": [
      "/Users/sanmatichoudhary/anaconda3/lib/python3.11/site-packages/sklearn/metrics/_classification.py:1497: UndefinedMetricWarning: Precision is ill-defined and being set to 0.0 in labels with no predicted samples. Use `zero_division` parameter to control this behavior.\n",
      "  _warn_prf(average, modifier, f\"{metric.capitalize()} is\", len(result))\n",
      "/Users/sanmatichoudhary/anaconda3/lib/python3.11/site-packages/sklearn/metrics/_classification.py:1497: UndefinedMetricWarning: Precision is ill-defined and being set to 0.0 in labels with no predicted samples. Use `zero_division` parameter to control this behavior.\n",
      "  _warn_prf(average, modifier, f\"{metric.capitalize()} is\", len(result))\n",
      "/Users/sanmatichoudhary/anaconda3/lib/python3.11/site-packages/sklearn/metrics/_classification.py:1497: UndefinedMetricWarning: Precision is ill-defined and being set to 0.0 in labels with no predicted samples. Use `zero_division` parameter to control this behavior.\n",
      "  _warn_prf(average, modifier, f\"{metric.capitalize()} is\", len(result))\n"
     ]
    }
   ],
   "source": [
    "model = SVC(kernel='rbf', random_state=42, C = 0.1, gamma = 1)  # You can choose different kernels such as 'linear', 'poly', 'rbf', etc.\n",
    "\n",
    "# Train the model\n",
    "model.fit(X_train, y_train)\n",
    "\n",
    "# Predict on the test set\n",
    "y_pred = model.predict(X_test)\n",
    "\n",
    "# Calculate accuracy\n",
    "accuracy = accuracy_score(y_test, y_pred)\n",
    "print(\"Accuracy:\", accuracy)\n",
    "\n",
    "# Print classification report\n",
    "print(\"Classification Report:\")\n",
    "print(classification_report(y_test, y_pred))"
   ]
  },
  {
   "cell_type": "markdown",
   "id": "7d65f631",
   "metadata": {},
   "source": [
    "### simple neural network"
   ]
  },
  {
   "cell_type": "code",
   "execution_count": 12,
   "id": "a854d420",
   "metadata": {},
   "outputs": [
    {
     "name": "stdout",
     "output_type": "stream",
     "text": [
      "Epoch 1/50\n",
      "39/39 [==============================] - 1s 5ms/step - loss: 0.7638 - accuracy: 0.5871 - val_loss: 0.8197 - val_accuracy: 0.4615\n",
      "Epoch 2/50\n",
      "39/39 [==============================] - 0s 2ms/step - loss: 0.7097 - accuracy: 0.6129 - val_loss: 0.8732 - val_accuracy: 0.4359\n",
      "Epoch 3/50\n",
      "39/39 [==============================] - 0s 2ms/step - loss: 0.6777 - accuracy: 0.6129 - val_loss: 0.9165 - val_accuracy: 0.4359\n",
      "Epoch 4/50\n",
      "39/39 [==============================] - 0s 2ms/step - loss: 0.6846 - accuracy: 0.6000 - val_loss: 0.8597 - val_accuracy: 0.4359\n",
      "Epoch 5/50\n",
      "39/39 [==============================] - 0s 2ms/step - loss: 0.6657 - accuracy: 0.5677 - val_loss: 0.8864 - val_accuracy: 0.4359\n",
      "Epoch 6/50\n",
      "39/39 [==============================] - 0s 2ms/step - loss: 0.6680 - accuracy: 0.6065 - val_loss: 0.7742 - val_accuracy: 0.5128\n",
      "Epoch 7/50\n",
      "39/39 [==============================] - 0s 2ms/step - loss: 0.6423 - accuracy: 0.6452 - val_loss: 0.7759 - val_accuracy: 0.4615\n",
      "Epoch 8/50\n",
      "39/39 [==============================] - 0s 2ms/step - loss: 0.6476 - accuracy: 0.6387 - val_loss: 0.8109 - val_accuracy: 0.4615\n",
      "Epoch 9/50\n",
      "39/39 [==============================] - 0s 2ms/step - loss: 0.6603 - accuracy: 0.6516 - val_loss: 0.7359 - val_accuracy: 0.4103\n",
      "Epoch 10/50\n",
      "39/39 [==============================] - 0s 2ms/step - loss: 0.6385 - accuracy: 0.6839 - val_loss: 0.7402 - val_accuracy: 0.5128\n",
      "Epoch 11/50\n",
      "39/39 [==============================] - 0s 2ms/step - loss: 0.6359 - accuracy: 0.6129 - val_loss: 0.7462 - val_accuracy: 0.4872\n",
      "Epoch 12/50\n",
      "39/39 [==============================] - 0s 2ms/step - loss: 0.6713 - accuracy: 0.6323 - val_loss: 0.9119 - val_accuracy: 0.4359\n",
      "Epoch 13/50\n",
      "39/39 [==============================] - 0s 2ms/step - loss: 0.6542 - accuracy: 0.5935 - val_loss: 0.9832 - val_accuracy: 0.4359\n",
      "Epoch 14/50\n",
      "39/39 [==============================] - 0s 2ms/step - loss: 0.6575 - accuracy: 0.5871 - val_loss: 0.9231 - val_accuracy: 0.4359\n",
      "Epoch 15/50\n",
      "39/39 [==============================] - 0s 2ms/step - loss: 0.6565 - accuracy: 0.6710 - val_loss: 0.8726 - val_accuracy: 0.4359\n",
      "Epoch 16/50\n",
      "39/39 [==============================] - 0s 2ms/step - loss: 0.6288 - accuracy: 0.6258 - val_loss: 0.7441 - val_accuracy: 0.4103\n",
      "Epoch 17/50\n",
      "39/39 [==============================] - 0s 2ms/step - loss: 0.6367 - accuracy: 0.6581 - val_loss: 0.7411 - val_accuracy: 0.5385\n",
      "Epoch 18/50\n",
      "39/39 [==============================] - 0s 2ms/step - loss: 0.6237 - accuracy: 0.6258 - val_loss: 0.8964 - val_accuracy: 0.4359\n",
      "Epoch 19/50\n",
      "39/39 [==============================] - 0s 2ms/step - loss: 0.6474 - accuracy: 0.6581 - val_loss: 0.8068 - val_accuracy: 0.4615\n",
      "Epoch 20/50\n",
      "39/39 [==============================] - 0s 2ms/step - loss: 0.6319 - accuracy: 0.6645 - val_loss: 0.7697 - val_accuracy: 0.4103\n",
      "Epoch 21/50\n",
      "39/39 [==============================] - 0s 2ms/step - loss: 0.6461 - accuracy: 0.6258 - val_loss: 0.8282 - val_accuracy: 0.4103\n",
      "Epoch 22/50\n",
      "39/39 [==============================] - 0s 2ms/step - loss: 0.6279 - accuracy: 0.6323 - val_loss: 0.8159 - val_accuracy: 0.5128\n",
      "Epoch 23/50\n",
      "39/39 [==============================] - 0s 2ms/step - loss: 0.6314 - accuracy: 0.6903 - val_loss: 0.8248 - val_accuracy: 0.4359\n",
      "Epoch 24/50\n",
      "39/39 [==============================] - 0s 2ms/step - loss: 0.6385 - accuracy: 0.6452 - val_loss: 0.8521 - val_accuracy: 0.4359\n",
      "Epoch 25/50\n",
      "39/39 [==============================] - 0s 2ms/step - loss: 0.6665 - accuracy: 0.6581 - val_loss: 0.7517 - val_accuracy: 0.4103\n",
      "Epoch 26/50\n",
      "39/39 [==============================] - 0s 2ms/step - loss: 0.6561 - accuracy: 0.6065 - val_loss: 0.8318 - val_accuracy: 0.4359\n",
      "Epoch 27/50\n",
      "39/39 [==============================] - 0s 2ms/step - loss: 0.6334 - accuracy: 0.6323 - val_loss: 0.8076 - val_accuracy: 0.4872\n",
      "Epoch 28/50\n",
      "39/39 [==============================] - 0s 2ms/step - loss: 0.6335 - accuracy: 0.6516 - val_loss: 0.7453 - val_accuracy: 0.5385\n",
      "Epoch 29/50\n",
      "39/39 [==============================] - 0s 2ms/step - loss: 0.6333 - accuracy: 0.6839 - val_loss: 0.8279 - val_accuracy: 0.4615\n",
      "Epoch 30/50\n",
      "39/39 [==============================] - 0s 2ms/step - loss: 0.6346 - accuracy: 0.6516 - val_loss: 0.7380 - val_accuracy: 0.3846\n",
      "Epoch 31/50\n",
      "39/39 [==============================] - 0s 2ms/step - loss: 0.6503 - accuracy: 0.6194 - val_loss: 0.7659 - val_accuracy: 0.3846\n",
      "Epoch 32/50\n",
      "39/39 [==============================] - 0s 2ms/step - loss: 0.6539 - accuracy: 0.6839 - val_loss: 1.0618 - val_accuracy: 0.4359\n",
      "Epoch 33/50\n",
      "39/39 [==============================] - 0s 2ms/step - loss: 0.6201 - accuracy: 0.6968 - val_loss: 0.8284 - val_accuracy: 0.5385\n",
      "Epoch 34/50\n",
      "39/39 [==============================] - 0s 2ms/step - loss: 0.6246 - accuracy: 0.6452 - val_loss: 0.9720 - val_accuracy: 0.4359\n",
      "Epoch 35/50\n",
      "39/39 [==============================] - 0s 2ms/step - loss: 0.6014 - accuracy: 0.6774 - val_loss: 0.8692 - val_accuracy: 0.4359\n",
      "Epoch 36/50\n",
      "39/39 [==============================] - 0s 2ms/step - loss: 0.6250 - accuracy: 0.6000 - val_loss: 1.0068 - val_accuracy: 0.4359\n",
      "Epoch 37/50\n",
      "39/39 [==============================] - 0s 2ms/step - loss: 0.6280 - accuracy: 0.6710 - val_loss: 0.8133 - val_accuracy: 0.4872\n",
      "Epoch 38/50\n",
      "39/39 [==============================] - 0s 2ms/step - loss: 0.6155 - accuracy: 0.7226 - val_loss: 0.8375 - val_accuracy: 0.5128\n",
      "Epoch 39/50\n",
      "39/39 [==============================] - 0s 2ms/step - loss: 0.6055 - accuracy: 0.6645 - val_loss: 0.8030 - val_accuracy: 0.3333\n",
      "Epoch 40/50\n",
      "39/39 [==============================] - 0s 2ms/step - loss: 0.6274 - accuracy: 0.6710 - val_loss: 0.7942 - val_accuracy: 0.5385\n",
      "Epoch 41/50\n",
      "39/39 [==============================] - 0s 2ms/step - loss: 0.6165 - accuracy: 0.6774 - val_loss: 0.7959 - val_accuracy: 0.3846\n",
      "Epoch 42/50\n",
      "39/39 [==============================] - 0s 2ms/step - loss: 0.6167 - accuracy: 0.6581 - val_loss: 0.7875 - val_accuracy: 0.3846\n",
      "Epoch 43/50\n",
      "39/39 [==============================] - 0s 2ms/step - loss: 0.6040 - accuracy: 0.6710 - val_loss: 0.7877 - val_accuracy: 0.4872\n",
      "Epoch 44/50\n",
      "39/39 [==============================] - 0s 2ms/step - loss: 0.5999 - accuracy: 0.6903 - val_loss: 0.9890 - val_accuracy: 0.4359\n",
      "Epoch 45/50\n",
      "39/39 [==============================] - 0s 2ms/step - loss: 0.6211 - accuracy: 0.6968 - val_loss: 0.8837 - val_accuracy: 0.5385\n",
      "Epoch 46/50\n",
      "39/39 [==============================] - 0s 2ms/step - loss: 0.6276 - accuracy: 0.6452 - val_loss: 0.8156 - val_accuracy: 0.5641\n",
      "Epoch 47/50\n",
      "39/39 [==============================] - 0s 2ms/step - loss: 0.6044 - accuracy: 0.6839 - val_loss: 0.8489 - val_accuracy: 0.5641\n",
      "Epoch 48/50\n",
      "39/39 [==============================] - 0s 2ms/step - loss: 0.6125 - accuracy: 0.6581 - val_loss: 0.8463 - val_accuracy: 0.5128\n",
      "Epoch 49/50\n",
      "39/39 [==============================] - 0s 2ms/step - loss: 0.6055 - accuracy: 0.7097 - val_loss: 0.8002 - val_accuracy: 0.3333\n",
      "Epoch 50/50\n",
      "39/39 [==============================] - 0s 2ms/step - loss: 0.5928 - accuracy: 0.7226 - val_loss: 0.8766 - val_accuracy: 0.5641\n",
      "2/2 [==============================] - 0s 3ms/step - loss: 0.8079 - accuracy: 0.5102\n",
      "Test Loss: 0.8079299926757812, Test Accuracy: 0.5102040767669678\n"
     ]
    }
   ],
   "source": [
    "model = keras.Sequential([\n",
    "    keras.layers.Dense(64, activation='relu', input_shape=(4,)),\n",
    "    keras.layers.Dense(32, activation='relu'),\n",
    "    keras.layers.Dense(1, activation='sigmoid')  # Output layer with sigmoid activation for binary classification\n",
    "])\n",
    "\n",
    "# Compile the model\n",
    "model.compile(optimizer='adam', loss='binary_crossentropy', metrics=['accuracy'])\n",
    "\n",
    "# Train the model\n",
    "model.fit(X_train, y_train, epochs=50, batch_size=4, validation_split=0.2)\n",
    "\n",
    "# Evaluate the model on the test set\n",
    "test_loss, test_accuracy = model.evaluate(X_test, y_test)\n",
    "print(f'Test Loss: {test_loss}, Test Accuracy: {test_accuracy}')"
   ]
  },
  {
   "cell_type": "markdown",
   "id": "a1fad781",
   "metadata": {},
   "source": [
    "# Data Augmentation: Gaussain Noise "
   ]
  },
  {
   "cell_type": "code",
   "execution_count": 29,
   "id": "3da10f2f",
   "metadata": {},
   "outputs": [],
   "source": [
    "def add_gaussian_noise(X, mean=0, std=0.1):\n",
    "    noise = np.random.normal(mean, std, size=X.shape)\n",
    "    return X + noise\n",
    "# Example: Adding Gaussian noise with mean=0 and std=0.1\n",
    "X_with_gaussian_noise = add_gaussian_noise(X)\n",
    "X_augmented = pd.concat([X, X_with_gaussian_noise])\n",
    "y_augmented = pd.concat([y,y])\n",
    "X_train, X_test, y_train, y_test = train_test_split(X_augmented, y_augmented, test_size=0.2, random_state=42, stratify = y_augmented)\n",
    "\n",
    "\n"
   ]
  },
  {
   "cell_type": "markdown",
   "id": "7dcc8196",
   "metadata": {},
   "source": [
    "### Logisitic Reg"
   ]
  },
  {
   "cell_type": "code",
   "execution_count": 14,
   "id": "730727e8",
   "metadata": {},
   "outputs": [
    {
     "name": "stdout",
     "output_type": "stream",
     "text": [
      "Accuracy: 0.5816326530612245\n",
      "Classification Report:\n",
      "              precision    recall  f1-score   support\n",
      "\n",
      "         0.0       0.60      0.75      0.67        55\n",
      "         1.0       0.53      0.37      0.44        43\n",
      "\n",
      "    accuracy                           0.58        98\n",
      "   macro avg       0.57      0.56      0.55        98\n",
      "weighted avg       0.57      0.58      0.57        98\n",
      "\n"
     ]
    }
   ],
   "source": [
    "model = LogisticRegression()\n",
    "\n",
    "# Train the model\n",
    "model.fit(X_train, y_train)\n",
    "\n",
    "# Predict on the test set\n",
    "y_pred = model.predict(X_test)\n",
    "\n",
    "# Calculate accuracy\n",
    "accuracy = accuracy_score(y_test, y_pred)\n",
    "print(\"Accuracy:\", accuracy)\n",
    "\n",
    "# Print classification report\n",
    "print(\"Classification Report:\")\n",
    "print(classification_report(y_test, y_pred))"
   ]
  },
  {
   "cell_type": "code",
   "execution_count": 15,
   "id": "9655d383",
   "metadata": {},
   "outputs": [
    {
     "data": {
      "text/plain": [
       "array([1., 1., 0., 0., 1., 0., 0., 0., 0., 0., 0., 1., 0., 0., 0., 0., 0.,\n",
       "       0., 1., 1., 0., 0., 1., 0., 1., 1., 0., 1., 0., 0., 0., 0., 0., 0.,\n",
       "       0., 0., 0., 0., 0., 0., 0., 1., 0., 0., 0., 0., 0., 0., 1., 1., 0.,\n",
       "       0., 1., 0., 0., 1., 1., 0., 0., 0., 1., 1., 0., 1., 1., 0., 0., 0.,\n",
       "       0., 0., 0., 0., 0., 1., 1., 1., 0., 0., 1., 0., 0., 1., 0., 0., 0.,\n",
       "       0., 0., 0., 0., 0., 0., 1., 0., 0., 1., 1., 1., 1.])"
      ]
     },
     "metadata": {},
     "output_type": "display_data"
    },
    {
     "data": {
      "text/plain": [
       "175    1.0\n",
       "172    1.0\n",
       "144    1.0\n",
       "58     0.0\n",
       "103    0.0\n",
       "      ... \n",
       "14     0.0\n",
       "176    1.0\n",
       "224    1.0\n",
       "91     0.0\n",
       "221    1.0\n",
       "Name: Normal, Length: 98, dtype: float64"
      ]
     },
     "metadata": {},
     "output_type": "display_data"
    },
    {
     "name": "stdout",
     "output_type": "stream",
     "text": [
      "98\n",
      "Normal\n",
      "0.0    55\n",
      "1.0    43\n",
      "Name: count, dtype: int64\n"
     ]
    }
   ],
   "source": [
    "display(y_pred)\n",
    "display(y_test)\n",
    "print(len(y_pred))\n",
    "print(y_test.value_counts())"
   ]
  },
  {
   "cell_type": "markdown",
   "id": "892b7d7d",
   "metadata": {},
   "source": [
    "### RF"
   ]
  },
  {
   "cell_type": "code",
   "execution_count": 16,
   "id": "6f2034c5",
   "metadata": {},
   "outputs": [
    {
     "name": "stdout",
     "output_type": "stream",
     "text": [
      "Best Parameters: {'max_depth': None, 'min_samples_leaf': 1, 'min_samples_split': 2, 'n_estimators': 100}\n",
      "Best Score: 0.7629037629037629\n"
     ]
    }
   ],
   "source": [
    "param_grid = {\n",
    "    'n_estimators': [100, 200, 300],  # Number of trees in the forest\n",
    "    'max_depth': [None, 10, 20, 30],   # Maximum depth of the trees\n",
    "    'min_samples_split': [2, 5, 10],   # Minimum number of samples required to split a node\n",
    "    'min_samples_leaf': [1, 2, 4]      # Minimum number of samples required at each leaf node\n",
    "}\n",
    "\n",
    "# Initialize the Random Forest model\n",
    "rf = RandomForestClassifier(random_state=42)\n",
    "\n",
    "# Perform grid search with 5-fold cross-validation\n",
    "grid_search = GridSearchCV(estimator=rf, param_grid=param_grid, cv=5, scoring='accuracy')\n",
    "\n",
    "# Fit the grid search to the training data\n",
    "grid_search.fit(X_train, y_train)\n",
    "\n",
    "# Get the best parameters and the best score\n",
    "best_params = grid_search.best_params_\n",
    "best_score = grid_search.best_score_\n",
    "\n",
    "print(\"Best Parameters:\", best_params)\n",
    "print(\"Best Score:\", best_score)"
   ]
  },
  {
   "cell_type": "code",
   "execution_count": 30,
   "id": "d36e53b2",
   "metadata": {},
   "outputs": [
    {
     "name": "stdout",
     "output_type": "stream",
     "text": [
      "Accuracy: 0.7857142857142857\n",
      "Classification Report:\n",
      "              precision    recall  f1-score   support\n",
      "\n",
      "         0.0       0.78      0.85      0.82        55\n",
      "         1.0       0.79      0.70      0.74        43\n",
      "\n",
      "    accuracy                           0.79        98\n",
      "   macro avg       0.79      0.78      0.78        98\n",
      "weighted avg       0.79      0.79      0.78        98\n",
      "\n"
     ]
    }
   ],
   "source": [
    "model = RandomForestClassifier(random_state=42, max_depth = None, n_estimators = 100, min_samples_leaf = 1, min_samples_split = 2)\n",
    "\n",
    "# Train the model\n",
    "model.fit(X_train, y_train)\n",
    "\n",
    "# Predict on the test set\n",
    "y_pred = model.predict(X_test)\n",
    "\n",
    "# Calculate accuracy\n",
    "accuracy = accuracy_score(y_test, y_pred)\n",
    "print(\"Accuracy:\", accuracy)\n",
    "\n",
    "# Print classification report\n",
    "print(\"Classification Report:\")\n",
    "print(classification_report(y_test, y_pred))"
   ]
  },
  {
   "cell_type": "markdown",
   "id": "911f99e8",
   "metadata": {},
   "source": [
    "### SVM "
   ]
  },
  {
   "cell_type": "code",
   "execution_count": 18,
   "id": "32424617",
   "metadata": {},
   "outputs": [
    {
     "name": "stdout",
     "output_type": "stream",
     "text": [
      "Best Parameters: {'C': 10, 'gamma': 1}\n",
      "Best Score: 0.8634698634698635\n"
     ]
    }
   ],
   "source": [
    "param_grid = {\n",
    "    'C': [0.1, 1, 10, 100],           # Regularization parameter\n",
    "    'gamma': [1, 0.1, 0.01, 0.001]   # Kernel coefficient for 'rbf' and 'poly' kernels\n",
    "#     'kernel': ['rbf', 'poly', 'linear']  # Kernel type\n",
    "}\n",
    "\n",
    "# Initialize the SVM model\n",
    "svm = SVC(random_state=42)\n",
    "\n",
    "# Perform grid search with 5-fold cross-validation\n",
    "grid_search = GridSearchCV(estimator=svm, param_grid=param_grid, cv=5, scoring='accuracy')\n",
    "\n",
    "# Fit the grid search to the training data\n",
    "grid_search.fit(X_train, y_train)\n",
    "\n",
    "# Get the best parameters and the best score\n",
    "best_params = grid_search.best_params_\n",
    "best_score = grid_search.best_score_\n",
    "\n",
    "print(\"Best Parameters:\", best_params)\n",
    "print(\"Best Score:\", best_score)"
   ]
  },
  {
   "cell_type": "code",
   "execution_count": 19,
   "id": "6aed1fde",
   "metadata": {},
   "outputs": [
    {
     "name": "stdout",
     "output_type": "stream",
     "text": [
      "Accuracy: 0.9387755102040817\n",
      "Classification Report:\n",
      "              precision    recall  f1-score   support\n",
      "\n",
      "         0.0       0.93      0.96      0.95        55\n",
      "         1.0       0.95      0.91      0.93        43\n",
      "\n",
      "    accuracy                           0.94        98\n",
      "   macro avg       0.94      0.94      0.94        98\n",
      "weighted avg       0.94      0.94      0.94        98\n",
      "\n"
     ]
    }
   ],
   "source": [
    "model = SVC(kernel='rbf', random_state=42, C = 10, gamma = 1)  # You can choose different kernels such as 'linear', 'poly', 'rbf', etc.\n",
    "\n",
    "# Train the model\n",
    "model.fit(X_train, y_train)\n",
    "\n",
    "# Predict on the test set\n",
    "y_pred = model.predict(X_test)\n",
    "\n",
    "# Calculate accuracy\n",
    "accuracy = accuracy_score(y_test, y_pred)\n",
    "print(\"Accuracy:\", accuracy)\n",
    "\n",
    "# Print classification report\n",
    "print(\"Classification Report:\")\n",
    "print(classification_report(y_test, y_pred))"
   ]
  },
  {
   "cell_type": "markdown",
   "id": "e078f617",
   "metadata": {},
   "source": [
    "### simple neural network"
   ]
  },
  {
   "cell_type": "code",
   "execution_count": 20,
   "id": "7cb4e5bc",
   "metadata": {},
   "outputs": [
    {
     "name": "stdout",
     "output_type": "stream",
     "text": [
      "Epoch 1/50\n",
      "78/78 [==============================] - 1s 3ms/step - loss: 0.7354 - accuracy: 0.5290 - val_loss: 0.6694 - val_accuracy: 0.5897\n",
      "Epoch 2/50\n",
      "78/78 [==============================] - 0s 1ms/step - loss: 0.6957 - accuracy: 0.6000 - val_loss: 0.6322 - val_accuracy: 0.6154\n",
      "Epoch 3/50\n",
      "78/78 [==============================] - 0s 1ms/step - loss: 0.6717 - accuracy: 0.5935 - val_loss: 0.6333 - val_accuracy: 0.6154\n",
      "Epoch 4/50\n",
      "78/78 [==============================] - 0s 1ms/step - loss: 0.6768 - accuracy: 0.5806 - val_loss: 0.6472 - val_accuracy: 0.5513\n",
      "Epoch 5/50\n",
      "78/78 [==============================] - 0s 1ms/step - loss: 0.6717 - accuracy: 0.6000 - val_loss: 0.6463 - val_accuracy: 0.5641\n",
      "Epoch 6/50\n",
      "78/78 [==============================] - 0s 1ms/step - loss: 0.6990 - accuracy: 0.6065 - val_loss: 0.6327 - val_accuracy: 0.5256\n",
      "Epoch 7/50\n",
      "78/78 [==============================] - 0s 1ms/step - loss: 0.7075 - accuracy: 0.5548 - val_loss: 0.6496 - val_accuracy: 0.6154\n",
      "Epoch 8/50\n",
      "78/78 [==============================] - 0s 1ms/step - loss: 0.6621 - accuracy: 0.5871 - val_loss: 0.6784 - val_accuracy: 0.5513\n",
      "Epoch 9/50\n",
      "78/78 [==============================] - 0s 1ms/step - loss: 0.6566 - accuracy: 0.6097 - val_loss: 0.6869 - val_accuracy: 0.5513\n",
      "Epoch 10/50\n",
      "78/78 [==============================] - 0s 1ms/step - loss: 0.6541 - accuracy: 0.5871 - val_loss: 0.6977 - val_accuracy: 0.5128\n",
      "Epoch 11/50\n",
      "78/78 [==============================] - 0s 1ms/step - loss: 0.6661 - accuracy: 0.5742 - val_loss: 0.6247 - val_accuracy: 0.6410\n",
      "Epoch 12/50\n",
      "78/78 [==============================] - 0s 2ms/step - loss: 0.6520 - accuracy: 0.5968 - val_loss: 0.6374 - val_accuracy: 0.6026\n",
      "Epoch 13/50\n",
      "78/78 [==============================] - 0s 1ms/step - loss: 0.6458 - accuracy: 0.6065 - val_loss: 0.6904 - val_accuracy: 0.5385\n",
      "Epoch 14/50\n",
      "78/78 [==============================] - 0s 2ms/step - loss: 0.6587 - accuracy: 0.6065 - val_loss: 0.6724 - val_accuracy: 0.5641\n",
      "Epoch 15/50\n",
      "78/78 [==============================] - 0s 2ms/step - loss: 0.6554 - accuracy: 0.5903 - val_loss: 0.6386 - val_accuracy: 0.5256\n",
      "Epoch 16/50\n",
      "78/78 [==============================] - 0s 2ms/step - loss: 0.6404 - accuracy: 0.5935 - val_loss: 0.6692 - val_accuracy: 0.5897\n",
      "Epoch 17/50\n",
      "78/78 [==============================] - 0s 2ms/step - loss: 0.6425 - accuracy: 0.6645 - val_loss: 0.6138 - val_accuracy: 0.6154\n",
      "Epoch 18/50\n",
      "78/78 [==============================] - 0s 2ms/step - loss: 0.6463 - accuracy: 0.6032 - val_loss: 0.7255 - val_accuracy: 0.5513\n",
      "Epoch 19/50\n",
      "78/78 [==============================] - 0s 2ms/step - loss: 0.6337 - accuracy: 0.6419 - val_loss: 0.6507 - val_accuracy: 0.6154\n",
      "Epoch 20/50\n",
      "78/78 [==============================] - 0s 2ms/step - loss: 0.6591 - accuracy: 0.6129 - val_loss: 0.6693 - val_accuracy: 0.6026\n",
      "Epoch 21/50\n",
      "78/78 [==============================] - 0s 2ms/step - loss: 0.6519 - accuracy: 0.5871 - val_loss: 0.7011 - val_accuracy: 0.5385\n",
      "Epoch 22/50\n",
      "78/78 [==============================] - 0s 1ms/step - loss: 0.6791 - accuracy: 0.5871 - val_loss: 0.6411 - val_accuracy: 0.6154\n",
      "Epoch 23/50\n",
      "78/78 [==============================] - 0s 1ms/step - loss: 0.6189 - accuracy: 0.6548 - val_loss: 0.8647 - val_accuracy: 0.4744\n",
      "Epoch 24/50\n",
      "78/78 [==============================] - 0s 1ms/step - loss: 0.6622 - accuracy: 0.6226 - val_loss: 0.7194 - val_accuracy: 0.5385\n",
      "Epoch 25/50\n",
      "78/78 [==============================] - 0s 1ms/step - loss: 0.6377 - accuracy: 0.6032 - val_loss: 0.6557 - val_accuracy: 0.6282\n",
      "Epoch 26/50\n",
      "78/78 [==============================] - 0s 1ms/step - loss: 0.6255 - accuracy: 0.6452 - val_loss: 0.6345 - val_accuracy: 0.6026\n",
      "Epoch 27/50\n",
      "78/78 [==============================] - 0s 1ms/step - loss: 0.6168 - accuracy: 0.6742 - val_loss: 0.6402 - val_accuracy: 0.5897\n",
      "Epoch 28/50\n",
      "78/78 [==============================] - 0s 1ms/step - loss: 0.6417 - accuracy: 0.6548 - val_loss: 0.6927 - val_accuracy: 0.6026\n",
      "Epoch 29/50\n",
      "78/78 [==============================] - 0s 2ms/step - loss: 0.6400 - accuracy: 0.5903 - val_loss: 0.6562 - val_accuracy: 0.6154\n",
      "Epoch 30/50\n",
      "78/78 [==============================] - 0s 1ms/step - loss: 0.6250 - accuracy: 0.6323 - val_loss: 0.6202 - val_accuracy: 0.5513\n",
      "Epoch 31/50\n",
      "78/78 [==============================] - 0s 1ms/step - loss: 0.6401 - accuracy: 0.6161 - val_loss: 0.6164 - val_accuracy: 0.6282\n",
      "Epoch 32/50\n",
      "78/78 [==============================] - 0s 1ms/step - loss: 0.6131 - accuracy: 0.6677 - val_loss: 0.6329 - val_accuracy: 0.6026\n",
      "Epoch 33/50\n",
      "78/78 [==============================] - 0s 2ms/step - loss: 0.6202 - accuracy: 0.6516 - val_loss: 0.6769 - val_accuracy: 0.5897\n",
      "Epoch 34/50\n",
      "78/78 [==============================] - 0s 1ms/step - loss: 0.6251 - accuracy: 0.6452 - val_loss: 0.6316 - val_accuracy: 0.6410\n",
      "Epoch 35/50\n",
      "78/78 [==============================] - 0s 1ms/step - loss: 0.6442 - accuracy: 0.6258 - val_loss: 0.6522 - val_accuracy: 0.6410\n",
      "Epoch 36/50\n",
      "78/78 [==============================] - 0s 1ms/step - loss: 0.6302 - accuracy: 0.6290 - val_loss: 0.6192 - val_accuracy: 0.6154\n",
      "Epoch 37/50\n",
      "78/78 [==============================] - 0s 1ms/step - loss: 0.6197 - accuracy: 0.6387 - val_loss: 0.6401 - val_accuracy: 0.6154\n",
      "Epoch 38/50\n",
      "78/78 [==============================] - 0s 1ms/step - loss: 0.6256 - accuracy: 0.6516 - val_loss: 0.6652 - val_accuracy: 0.5897\n",
      "Epoch 39/50\n",
      "78/78 [==============================] - 0s 2ms/step - loss: 0.6159 - accuracy: 0.6613 - val_loss: 0.7124 - val_accuracy: 0.5641\n",
      "Epoch 40/50\n",
      "78/78 [==============================] - 0s 1ms/step - loss: 0.6165 - accuracy: 0.6387 - val_loss: 0.6686 - val_accuracy: 0.6026\n",
      "Epoch 41/50\n",
      "78/78 [==============================] - 0s 1ms/step - loss: 0.6194 - accuracy: 0.6258 - val_loss: 0.5930 - val_accuracy: 0.6538\n",
      "Epoch 42/50\n",
      "78/78 [==============================] - 0s 2ms/step - loss: 0.6039 - accuracy: 0.6581 - val_loss: 0.6944 - val_accuracy: 0.6026\n",
      "Epoch 43/50\n",
      "78/78 [==============================] - 0s 1ms/step - loss: 0.6139 - accuracy: 0.6742 - val_loss: 0.6345 - val_accuracy: 0.6154\n",
      "Epoch 44/50\n",
      "78/78 [==============================] - 0s 2ms/step - loss: 0.6170 - accuracy: 0.6613 - val_loss: 0.6485 - val_accuracy: 0.6154\n",
      "Epoch 45/50\n",
      "78/78 [==============================] - 0s 1ms/step - loss: 0.6298 - accuracy: 0.6548 - val_loss: 0.6839 - val_accuracy: 0.5897\n",
      "Epoch 46/50\n",
      "78/78 [==============================] - 0s 1ms/step - loss: 0.6058 - accuracy: 0.6516 - val_loss: 0.6690 - val_accuracy: 0.5897\n",
      "Epoch 47/50\n",
      "78/78 [==============================] - 0s 1ms/step - loss: 0.6120 - accuracy: 0.6710 - val_loss: 0.5981 - val_accuracy: 0.6410\n",
      "Epoch 48/50\n",
      "78/78 [==============================] - 0s 1ms/step - loss: 0.6134 - accuracy: 0.6452 - val_loss: 0.6062 - val_accuracy: 0.6282\n",
      "Epoch 49/50\n",
      "78/78 [==============================] - 0s 1ms/step - loss: 0.6018 - accuracy: 0.6774 - val_loss: 0.6475 - val_accuracy: 0.6026\n",
      "Epoch 50/50\n",
      "78/78 [==============================] - 0s 1ms/step - loss: 0.6240 - accuracy: 0.6484 - val_loss: 0.6277 - val_accuracy: 0.6410\n",
      "4/4 [==============================] - 0s 2ms/step - loss: 0.7395 - accuracy: 0.5714\n",
      "Test Loss: 0.7395148277282715, Test Accuracy: 0.5714285969734192\n"
     ]
    }
   ],
   "source": [
    "model = keras.Sequential([\n",
    "    keras.layers.Dense(64, activation='relu', input_shape=(4,)),\n",
    "    keras.layers.Dense(32, activation='relu'),\n",
    "    keras.layers.Dense(1, activation='sigmoid')  # Output layer with sigmoid activation for binary classification\n",
    "])\n",
    "\n",
    "# Compile the model\n",
    "model.compile(optimizer='adam', loss='binary_crossentropy', metrics=['accuracy'])\n",
    "\n",
    "# Train the model\n",
    "model.fit(X_train, y_train, epochs=50, batch_size=4, validation_split=0.2)\n",
    "\n",
    "# Evaluate the model on the test set\n",
    "test_loss, test_accuracy = model.evaluate(X_test, y_test)\n",
    "print(f'Test Loss: {test_loss}, Test Accuracy: {test_accuracy}')"
   ]
  },
  {
   "cell_type": "markdown",
   "id": "62a16708",
   "metadata": {},
   "source": [
    "# Data Augmentation: Jittering"
   ]
  },
  {
   "cell_type": "code",
   "execution_count": 31,
   "id": "79ee70b1",
   "metadata": {},
   "outputs": [],
   "source": [
    "def add_jittering(X, magnitude=0.1):\n",
    "    jitter = np.random.uniform(-magnitude, magnitude, size=X.shape)\n",
    "    return X + jitter\n",
    "\n",
    "# Example: Adding jittering with magnitude=0.1\n",
    "X_with_jittering = add_jittering(X)\n",
    "\n",
    "X_augmented = pd.concat([X, X_with_jittering])\n",
    "y_augmented = pd.concat([y,y])\n",
    "X_train, X_test, y_train, y_test = train_test_split(X_augmented, y_augmented, test_size=0.2, random_state=42, stratify = y_augmented)\n",
    "\n"
   ]
  },
  {
   "cell_type": "markdown",
   "id": "59cd0798",
   "metadata": {},
   "source": [
    "### Logisitic Reg"
   ]
  },
  {
   "cell_type": "code",
   "execution_count": 22,
   "id": "c68ed7a7",
   "metadata": {},
   "outputs": [
    {
     "name": "stdout",
     "output_type": "stream",
     "text": [
      "Accuracy: 0.5714285714285714\n",
      "Classification Report:\n",
      "              precision    recall  f1-score   support\n",
      "\n",
      "         0.0       0.60      0.73      0.66        55\n",
      "         1.0       0.52      0.37      0.43        43\n",
      "\n",
      "    accuracy                           0.57        98\n",
      "   macro avg       0.56      0.55      0.54        98\n",
      "weighted avg       0.56      0.57      0.56        98\n",
      "\n"
     ]
    }
   ],
   "source": [
    "model = LogisticRegression()\n",
    "\n",
    "# Train the model\n",
    "model.fit(X_train, y_train)\n",
    "\n",
    "# Predict on the test set\n",
    "y_pred = model.predict(X_test)\n",
    "\n",
    "# Calculate accuracy\n",
    "accuracy = accuracy_score(y_test, y_pred)\n",
    "print(\"Accuracy:\", accuracy)\n",
    "\n",
    "# Print classification report\n",
    "print(\"Classification Report:\")\n",
    "print(classification_report(y_test, y_pred))"
   ]
  },
  {
   "cell_type": "markdown",
   "id": "e0576e7d",
   "metadata": {},
   "source": [
    "### RF"
   ]
  },
  {
   "cell_type": "code",
   "execution_count": 23,
   "id": "e903655c",
   "metadata": {},
   "outputs": [
    {
     "name": "stdout",
     "output_type": "stream",
     "text": [
      "Best Parameters: {'max_depth': None, 'min_samples_leaf': 1, 'min_samples_split': 2, 'n_estimators': 200}\n",
      "Best Score: 0.7888444888444888\n"
     ]
    }
   ],
   "source": [
    "param_grid = {\n",
    "    'n_estimators': [100, 200, 300],  # Number of trees in the forest\n",
    "    'max_depth': [None, 10, 20, 30],   # Maximum depth of the trees\n",
    "    'min_samples_split': [2, 5, 10],   # Minimum number of samples required to split a node\n",
    "    'min_samples_leaf': [1, 2, 4]      # Minimum number of samples required at each leaf node\n",
    "}\n",
    "\n",
    "# Initialize the Random Forest model\n",
    "rf = RandomForestClassifier(random_state=42)\n",
    "\n",
    "# Perform grid search with 5-fold cross-validation\n",
    "grid_search = GridSearchCV(estimator=rf, param_grid=param_grid, cv=5, scoring='accuracy')\n",
    "\n",
    "# Fit the grid search to the training data\n",
    "grid_search.fit(X_train, y_train)\n",
    "\n",
    "# Get the best parameters and the best score\n",
    "best_params = grid_search.best_params_\n",
    "best_score = grid_search.best_score_\n",
    "\n",
    "print(\"Best Parameters:\", best_params)\n",
    "print(\"Best Score:\", best_score)"
   ]
  },
  {
   "cell_type": "code",
   "execution_count": 32,
   "id": "084256e3",
   "metadata": {},
   "outputs": [
    {
     "name": "stdout",
     "output_type": "stream",
     "text": [
      "Accuracy: 0.7857142857142857\n",
      "Classification Report:\n",
      "              precision    recall  f1-score   support\n",
      "\n",
      "         0.0       0.81      0.80      0.81        55\n",
      "         1.0       0.75      0.77      0.76        43\n",
      "\n",
      "    accuracy                           0.79        98\n",
      "   macro avg       0.78      0.78      0.78        98\n",
      "weighted avg       0.79      0.79      0.79        98\n",
      "\n"
     ]
    }
   ],
   "source": [
    "model = RandomForestClassifier(random_state=42, max_depth = None, n_estimators = 200, min_samples_leaf = 1, min_samples_split = 2)\n",
    "\n",
    "# Train the model\n",
    "model.fit(X_train, y_train)\n",
    "\n",
    "# Predict on the test set\n",
    "y_pred = model.predict(X_test)\n",
    "\n",
    "# Calculate accuracy\n",
    "accuracy = accuracy_score(y_test, y_pred)\n",
    "print(\"Accuracy:\", accuracy)\n",
    "\n",
    "# Print classification report\n",
    "print(\"Classification Report:\")\n",
    "print(classification_report(y_test, y_pred))"
   ]
  },
  {
   "cell_type": "markdown",
   "id": "60793485",
   "metadata": {},
   "source": [
    "### SVM"
   ]
  },
  {
   "cell_type": "code",
   "execution_count": 25,
   "id": "eaf26dac",
   "metadata": {},
   "outputs": [
    {
     "name": "stdout",
     "output_type": "stream",
     "text": [
      "Best Parameters: {'C': 10, 'gamma': 1}\n",
      "Best Score: 0.8609057609057608\n"
     ]
    }
   ],
   "source": [
    "param_grid = {\n",
    "    'C': [0.1, 1, 10, 100],           # Regularization parameter\n",
    "    'gamma': [1, 0.1, 0.01, 0.001]   # Kernel coefficient for 'rbf' and 'poly' kernels\n",
    "#     'kernel': ['rbf', 'poly', 'linear']  # Kernel type\n",
    "}\n",
    "\n",
    "# Initialize the SVM model\n",
    "svm = SVC(random_state=42)\n",
    "\n",
    "# Perform grid search with 5-fold cross-validation\n",
    "grid_search = GridSearchCV(estimator=svm, param_grid=param_grid, cv=5, scoring='accuracy')\n",
    "\n",
    "# Fit the grid search to the training data\n",
    "grid_search.fit(X_train, y_train)\n",
    "\n",
    "# Get the best parameters and the best score\n",
    "best_params = grid_search.best_params_\n",
    "best_score = grid_search.best_score_\n",
    "\n",
    "print(\"Best Parameters:\", best_params)\n",
    "print(\"Best Score:\", best_score)"
   ]
  },
  {
   "cell_type": "code",
   "execution_count": 26,
   "id": "8657aa8f",
   "metadata": {},
   "outputs": [
    {
     "name": "stdout",
     "output_type": "stream",
     "text": [
      "Accuracy: 0.9387755102040817\n",
      "Classification Report:\n",
      "              precision    recall  f1-score   support\n",
      "\n",
      "         0.0       0.93      0.96      0.95        55\n",
      "         1.0       0.95      0.91      0.93        43\n",
      "\n",
      "    accuracy                           0.94        98\n",
      "   macro avg       0.94      0.94      0.94        98\n",
      "weighted avg       0.94      0.94      0.94        98\n",
      "\n"
     ]
    }
   ],
   "source": [
    "model = SVC(kernel='rbf', random_state=42, C = 10, gamma = 1)  # You can choose different kernels such as 'linear', 'poly', 'rbf', etc.\n",
    "\n",
    "# Train the model\n",
    "model.fit(X_train, y_train)\n",
    "\n",
    "# Predict on the test set\n",
    "y_pred = model.predict(X_test)\n",
    "\n",
    "# Calculate accuracy\n",
    "accuracy = accuracy_score(y_test, y_pred)\n",
    "print(\"Accuracy:\", accuracy)\n",
    "\n",
    "# Print classification report\n",
    "print(\"Classification Report:\")\n",
    "print(classification_report(y_test, y_pred))"
   ]
  },
  {
   "cell_type": "markdown",
   "id": "ddf1b519",
   "metadata": {},
   "source": [
    "### simple neural network "
   ]
  },
  {
   "cell_type": "code",
   "execution_count": 27,
   "id": "e8286bc0",
   "metadata": {},
   "outputs": [
    {
     "name": "stdout",
     "output_type": "stream",
     "text": [
      "Epoch 1/50\n",
      "78/78 [==============================] - 1s 3ms/step - loss: 0.7544 - accuracy: 0.5419 - val_loss: 0.7004 - val_accuracy: 0.4872\n",
      "Epoch 2/50\n",
      "78/78 [==============================] - 0s 1ms/step - loss: 0.6919 - accuracy: 0.5129 - val_loss: 0.7207 - val_accuracy: 0.5769\n",
      "Epoch 3/50\n",
      "78/78 [==============================] - 0s 1ms/step - loss: 0.6746 - accuracy: 0.6129 - val_loss: 0.6829 - val_accuracy: 0.5513\n",
      "Epoch 4/50\n",
      "78/78 [==============================] - 0s 2ms/step - loss: 0.6731 - accuracy: 0.5839 - val_loss: 0.6811 - val_accuracy: 0.5641\n",
      "Epoch 5/50\n",
      "78/78 [==============================] - 0s 1ms/step - loss: 0.6701 - accuracy: 0.5871 - val_loss: 0.6645 - val_accuracy: 0.6154\n",
      "Epoch 6/50\n",
      "78/78 [==============================] - 0s 1ms/step - loss: 0.6885 - accuracy: 0.5903 - val_loss: 0.6438 - val_accuracy: 0.6410\n",
      "Epoch 7/50\n",
      "78/78 [==============================] - 0s 1ms/step - loss: 0.6664 - accuracy: 0.5548 - val_loss: 0.6364 - val_accuracy: 0.6282\n",
      "Epoch 8/50\n",
      "78/78 [==============================] - 0s 1ms/step - loss: 0.6513 - accuracy: 0.6097 - val_loss: 0.6875 - val_accuracy: 0.6026\n",
      "Epoch 9/50\n",
      "78/78 [==============================] - 0s 1ms/step - loss: 0.6690 - accuracy: 0.6161 - val_loss: 0.6859 - val_accuracy: 0.5897\n",
      "Epoch 10/50\n",
      "78/78 [==============================] - 0s 1ms/step - loss: 0.6437 - accuracy: 0.6258 - val_loss: 0.6403 - val_accuracy: 0.5641\n",
      "Epoch 11/50\n",
      "78/78 [==============================] - 0s 1ms/step - loss: 0.6553 - accuracy: 0.6000 - val_loss: 0.6411 - val_accuracy: 0.6282\n",
      "Epoch 12/50\n",
      "78/78 [==============================] - 0s 1ms/step - loss: 0.6371 - accuracy: 0.6097 - val_loss: 0.8008 - val_accuracy: 0.5769\n",
      "Epoch 13/50\n",
      "78/78 [==============================] - 0s 1ms/step - loss: 0.6578 - accuracy: 0.6000 - val_loss: 0.6803 - val_accuracy: 0.6154\n",
      "Epoch 14/50\n",
      "78/78 [==============================] - 0s 1ms/step - loss: 0.6470 - accuracy: 0.6355 - val_loss: 0.6565 - val_accuracy: 0.5513\n",
      "Epoch 15/50\n",
      "78/78 [==============================] - 0s 1ms/step - loss: 0.6472 - accuracy: 0.6226 - val_loss: 0.6589 - val_accuracy: 0.5897\n",
      "Epoch 16/50\n",
      "78/78 [==============================] - 0s 1ms/step - loss: 0.6471 - accuracy: 0.6065 - val_loss: 0.7392 - val_accuracy: 0.5769\n",
      "Epoch 17/50\n",
      "78/78 [==============================] - 0s 1ms/step - loss: 0.6816 - accuracy: 0.6032 - val_loss: 0.6518 - val_accuracy: 0.5769\n",
      "Epoch 18/50\n",
      "78/78 [==============================] - 0s 1ms/step - loss: 0.6467 - accuracy: 0.6355 - val_loss: 0.6428 - val_accuracy: 0.6282\n",
      "Epoch 19/50\n",
      "78/78 [==============================] - 0s 1ms/step - loss: 0.6347 - accuracy: 0.6323 - val_loss: 0.6338 - val_accuracy: 0.6410\n",
      "Epoch 20/50\n",
      "78/78 [==============================] - 0s 2ms/step - loss: 0.6388 - accuracy: 0.6387 - val_loss: 0.6446 - val_accuracy: 0.5769\n",
      "Epoch 21/50\n",
      "78/78 [==============================] - 0s 2ms/step - loss: 0.6340 - accuracy: 0.6097 - val_loss: 0.6172 - val_accuracy: 0.6282\n",
      "Epoch 22/50\n",
      "78/78 [==============================] - 0s 1ms/step - loss: 0.6398 - accuracy: 0.6194 - val_loss: 0.6585 - val_accuracy: 0.5769\n",
      "Epoch 23/50\n",
      "78/78 [==============================] - 0s 1ms/step - loss: 0.6285 - accuracy: 0.6258 - val_loss: 0.7051 - val_accuracy: 0.5641\n",
      "Epoch 24/50\n",
      "78/78 [==============================] - 0s 1ms/step - loss: 0.6315 - accuracy: 0.6290 - val_loss: 0.6527 - val_accuracy: 0.6026\n",
      "Epoch 25/50\n",
      "78/78 [==============================] - 0s 1ms/step - loss: 0.6257 - accuracy: 0.6323 - val_loss: 0.7106 - val_accuracy: 0.5256\n",
      "Epoch 26/50\n",
      "78/78 [==============================] - 0s 1ms/step - loss: 0.6499 - accuracy: 0.6097 - val_loss: 0.6573 - val_accuracy: 0.5769\n",
      "Epoch 27/50\n",
      "78/78 [==============================] - 0s 1ms/step - loss: 0.6320 - accuracy: 0.6194 - val_loss: 0.7061 - val_accuracy: 0.5385\n",
      "Epoch 28/50\n",
      "78/78 [==============================] - 0s 2ms/step - loss: 0.6373 - accuracy: 0.6226 - val_loss: 0.6768 - val_accuracy: 0.6026\n",
      "Epoch 29/50\n",
      "78/78 [==============================] - 0s 1ms/step - loss: 0.6394 - accuracy: 0.6290 - val_loss: 0.6580 - val_accuracy: 0.5897\n",
      "Epoch 30/50\n",
      "78/78 [==============================] - 0s 1ms/step - loss: 0.6386 - accuracy: 0.6355 - val_loss: 0.6214 - val_accuracy: 0.6410\n",
      "Epoch 31/50\n",
      "78/78 [==============================] - 0s 1ms/step - loss: 0.6195 - accuracy: 0.6581 - val_loss: 0.6418 - val_accuracy: 0.5641\n",
      "Epoch 32/50\n",
      "78/78 [==============================] - 0s 1ms/step - loss: 0.6206 - accuracy: 0.6484 - val_loss: 0.6210 - val_accuracy: 0.6282\n",
      "Epoch 33/50\n",
      "78/78 [==============================] - 0s 1ms/step - loss: 0.6170 - accuracy: 0.6516 - val_loss: 0.6570 - val_accuracy: 0.5513\n",
      "Epoch 34/50\n",
      "78/78 [==============================] - 0s 1ms/step - loss: 0.6268 - accuracy: 0.6355 - val_loss: 0.6359 - val_accuracy: 0.6282\n",
      "Epoch 35/50\n",
      "78/78 [==============================] - 0s 1ms/step - loss: 0.6153 - accuracy: 0.6452 - val_loss: 0.6663 - val_accuracy: 0.5641\n",
      "Epoch 36/50\n",
      "78/78 [==============================] - 0s 1ms/step - loss: 0.6141 - accuracy: 0.6516 - val_loss: 0.6387 - val_accuracy: 0.5897\n",
      "Epoch 37/50\n",
      "78/78 [==============================] - 0s 1ms/step - loss: 0.6183 - accuracy: 0.6387 - val_loss: 0.6314 - val_accuracy: 0.6154\n",
      "Epoch 38/50\n",
      "78/78 [==============================] - 0s 1ms/step - loss: 0.6234 - accuracy: 0.6516 - val_loss: 0.6277 - val_accuracy: 0.5641\n",
      "Epoch 39/50\n",
      "78/78 [==============================] - 0s 1ms/step - loss: 0.6095 - accuracy: 0.6581 - val_loss: 0.6232 - val_accuracy: 0.6026\n",
      "Epoch 40/50\n",
      "78/78 [==============================] - 0s 1ms/step - loss: 0.6117 - accuracy: 0.6839 - val_loss: 0.7163 - val_accuracy: 0.5385\n",
      "Epoch 41/50\n",
      "78/78 [==============================] - 0s 1ms/step - loss: 0.6181 - accuracy: 0.6548 - val_loss: 0.6039 - val_accuracy: 0.6667\n",
      "Epoch 42/50\n",
      "78/78 [==============================] - 0s 1ms/step - loss: 0.6164 - accuracy: 0.6645 - val_loss: 0.6310 - val_accuracy: 0.6410\n",
      "Epoch 43/50\n",
      "78/78 [==============================] - 0s 1ms/step - loss: 0.6111 - accuracy: 0.6581 - val_loss: 0.6797 - val_accuracy: 0.5897\n",
      "Epoch 44/50\n",
      "78/78 [==============================] - 0s 1ms/step - loss: 0.6034 - accuracy: 0.6548 - val_loss: 0.6604 - val_accuracy: 0.5769\n",
      "Epoch 45/50\n",
      "78/78 [==============================] - 0s 1ms/step - loss: 0.6081 - accuracy: 0.6742 - val_loss: 0.5863 - val_accuracy: 0.6282\n",
      "Epoch 46/50\n",
      "78/78 [==============================] - 0s 1ms/step - loss: 0.6070 - accuracy: 0.6677 - val_loss: 0.6202 - val_accuracy: 0.6410\n",
      "Epoch 47/50\n",
      "78/78 [==============================] - 0s 1ms/step - loss: 0.6033 - accuracy: 0.6581 - val_loss: 0.6162 - val_accuracy: 0.6026\n",
      "Epoch 48/50\n",
      "78/78 [==============================] - 0s 1ms/step - loss: 0.6088 - accuracy: 0.6581 - val_loss: 0.6181 - val_accuracy: 0.6410\n",
      "Epoch 49/50\n",
      "78/78 [==============================] - 0s 1ms/step - loss: 0.6014 - accuracy: 0.6677 - val_loss: 0.6359 - val_accuracy: 0.6154\n",
      "Epoch 50/50\n",
      "78/78 [==============================] - 0s 1ms/step - loss: 0.6021 - accuracy: 0.6774 - val_loss: 0.6207 - val_accuracy: 0.6667\n",
      "4/4 [==============================] - 0s 2ms/step - loss: 0.7446 - accuracy: 0.5510\n",
      "Test Loss: 0.7446273565292358, Test Accuracy: 0.5510203838348389\n"
     ]
    }
   ],
   "source": [
    "model = keras.Sequential([\n",
    "    keras.layers.Dense(64, activation='relu', input_shape=(4,)),\n",
    "    keras.layers.Dense(32, activation='relu'),\n",
    "    keras.layers.Dense(1, activation='sigmoid')  # Output layer with sigmoid activation for binary classification\n",
    "])\n",
    "\n",
    "# Compile the model\n",
    "model.compile(optimizer='adam', loss='binary_crossentropy', metrics=['accuracy'])\n",
    "\n",
    "# Train the model\n",
    "model.fit(X_train, y_train, epochs=50, batch_size=4, validation_split=0.2)\n",
    "\n",
    "# Evaluate the model on the test set\n",
    "test_loss, test_accuracy = model.evaluate(X_test, y_test)\n",
    "print(f'Test Loss: {test_loss}, Test Accuracy: {test_accuracy}')"
   ]
  },
  {
   "cell_type": "markdown",
   "id": "e323fd89",
   "metadata": {},
   "source": [
    "# Data Augmentation: GAN"
   ]
  },
  {
   "cell_type": "code",
   "execution_count": 33,
   "id": "d92092ee",
   "metadata": {},
   "outputs": [
    {
     "name": "stdout",
     "output_type": "stream",
     "text": [
      "1/1 [==============================] - 0s 120ms/step\n",
      "Epoch: 0, Discriminator Loss: 1.10200035572052, Generator Loss: 0.7080536484718323\n",
      "1/1 [==============================] - 0s 20ms/step\n",
      "1/1 [==============================] - 0s 19ms/step\n",
      "1/1 [==============================] - 0s 16ms/step\n",
      "1/1 [==============================] - 0s 17ms/step\n",
      "1/1 [==============================] - 0s 16ms/step\n",
      "Convergence reached at epoch 5\n",
      "32/32 [==============================] - 0s 3ms/step\n"
     ]
    },
    {
     "data": {
      "text/plain": [
       "array([[0.6430389 , 0.6771423 , 0.535782  , 0.7308327 ],\n",
       "       [0.5367808 , 0.69522125, 0.4649643 , 0.5994012 ],\n",
       "       [0.5446434 , 0.63275045, 0.5776892 , 0.5430426 ],\n",
       "       ...,\n",
       "       [0.38131785, 0.68380517, 0.62612456, 0.59357923],\n",
       "       [0.7099702 , 0.5507871 , 0.4482064 , 0.54742175],\n",
       "       [0.6267307 , 0.61751765, 0.5221946 , 0.68012416]], dtype=float32)"
      ]
     },
     "metadata": {},
     "output_type": "display_data"
    }
   ],
   "source": [
    "import numpy as np\n",
    "import matplotlib.pyplot as plt\n",
    "import pandas as pd\n",
    "from sklearn.model_selection import train_test_split\n",
    "from tensorflow import keras\n",
    "from tensorflow.keras import layers\n",
    "\n",
    "# Generator network\n",
    "def build_generator(latent_dim, num_features):\n",
    "    model = keras.Sequential([\n",
    "    layers.Dense(512, activation='relu', input_dim=latent_dim),  # Increase the number of neurons and depth\n",
    "    layers.BatchNormalization(),\n",
    "    layers.Dense(1024, activation='relu'),  # Increase the number of neurons and depth\n",
    "    layers.BatchNormalization(),\n",
    "    layers.Dense(512, activation='relu'),  # Increase the number of neurons and depth\n",
    "    layers.BatchNormalization(),\n",
    "    layers.Dense(num_features, activation='sigmoid')\n",
    "    ])\n",
    "    return model\n",
    "\n",
    "def build_discriminator(num_features):\n",
    "    model = keras.Sequential([\n",
    "        layers.Dense(1024, activation='relu', input_dim=num_features),  # Increase the number of neurons and depth\n",
    "        layers.Dropout(0.5),\n",
    "        layers.Dense(512, activation='relu'),  # Increase the number of neurons and depth\n",
    "        layers.Dropout(0.5),\n",
    "        layers.Dense(256, activation='relu'),  # Increase the number of neurons and depth\n",
    "        layers.Dropout(0.5),\n",
    "        layers.Dense(1, activation='sigmoid')\n",
    "    ])\n",
    "    return model\n",
    "\n",
    "# GAN model\n",
    "def build_gan(generator, discriminator):\n",
    "    discriminator.trainable = False\n",
    "    model = keras.Sequential([generator, discriminator])\n",
    "    return model\n",
    "\n",
    "# Training GAN\n",
    "def train_gan(generator, discriminator, gan, X_train, y_train, latent_dim, num_epochs=100, batch_size=32, logging_interval=1000, convergence_threshold=0.1, convergence_patience=5):\n",
    "    best_discriminator_loss = float('inf')\n",
    "    best_generator_loss = float('inf')\n",
    "    patience_counter = 0\n",
    "    \n",
    "    for epoch in range(num_epochs):\n",
    "        # Generate fake samples\n",
    "        noise = np.random.normal(0, 1, (batch_size, latent_dim))\n",
    "        generated_data = generator.predict(noise)\n",
    "        \n",
    "        # Select a random batch of real samples\n",
    "        idx = np.random.randint(0, X_train.shape[0], batch_size)\n",
    "        real_samples = X_train.iloc[idx]\n",
    "        \n",
    "        # Concatenate real and fake samples\n",
    "        X = np.concatenate([real_samples, generated_data])\n",
    "        \n",
    "        # Labels for real and fake samples\n",
    "        y_real = np.ones((batch_size, 1))\n",
    "        y_fake = np.zeros((batch_size, 1))\n",
    "        y = np.concatenate([y_real, y_fake])\n",
    "        \n",
    "        # Train discriminator\n",
    "        discriminator_loss = discriminator.train_on_batch(X, y)\n",
    "        \n",
    "        # Train generator\n",
    "        noise = np.random.normal(0, 1, (batch_size, latent_dim))\n",
    "        generator_loss = gan.train_on_batch(noise, y_real)\n",
    "        \n",
    "        # Logging\n",
    "        if epoch % logging_interval == 0:\n",
    "            print(f\"Epoch: {epoch}, Discriminator Loss: {discriminator_loss}, Generator Loss: {generator_loss}\")\n",
    "        \n",
    "        # Convergence monitoring\n",
    "        if discriminator_loss < best_discriminator_loss - convergence_threshold and generator_loss < best_generator_loss - convergence_threshold:\n",
    "            best_discriminator_loss = discriminator_loss\n",
    "            best_generator_loss = generator_loss\n",
    "            patience_counter = 0\n",
    "        else:\n",
    "            patience_counter += 1\n",
    "        \n",
    "        if patience_counter >= convergence_patience:\n",
    "            print(f\"Convergence reached at epoch {epoch}\")\n",
    "            break\n",
    "\n",
    "# Train GAN with convergence monitoring\n",
    "\n",
    "X_train, X_test, y_train, y_test = train_test_split(X, y, test_size=0.2, random_state=42)\n",
    "\n",
    "\n",
    "\n",
    "# Generate synthetic samples\n",
    "def generate_samples(generator, latent_dim, num_samples):\n",
    "    noise = np.random.normal(0, 1, (num_samples, latent_dim))\n",
    "    generated_data = generator.predict(noise)\n",
    "    return generated_data\n",
    "\n",
    "# Load data\n",
    "# Assuming your DataFrame is named df, and the target column is named 'abnormal'\n",
    "# Drop the target column to get the feature data\n",
    "# X = df.drop(columns=['normal']).values\n",
    "# y = df['normal'].values.reshape(-1, 1)\n",
    "\n",
    "# Split the data into training and testing sets\n",
    "\n",
    "# Parameters\n",
    "latent_dim = 100\n",
    "num_features = X_train.shape[1]\n",
    "\n",
    "# Build and compile models\n",
    "generator = build_generator(latent_dim, num_features)\n",
    "discriminator = build_discriminator(num_features)\n",
    "gan = build_gan(generator, discriminator)\n",
    "optimizer = Adam(learning_rate=0.0001)\n",
    "discriminator.compile(optimizer=optimizer, loss='binary_crossentropy')\n",
    "# discriminator.compile(optimizer='adam', loss='binary_crossentropy')\n",
    "gan.compile(optimizer='adam', loss='binary_crossentropy')\n",
    "\n",
    "# Train GAN\n",
    "train_gan(generator, discriminator, gan, X_train, y_train, latent_dim)\n",
    "\n",
    "# Generate samples\n",
    "generated_samples = generate_samples(generator, latent_dim, 1000)\n",
    "\n",
    "# Plot generated samples\n",
    "# plt.scatter(X_train.iloc[:, 0], X_train.iloc[:, 1], color='blue', alpha=0.5, label='Real Data')\n",
    "# plt.scatter(generated_samples[:, 0], generated_samples[:, 1], color='red', alpha=0.5, label='Generated Data')\n",
    "# plt.legend()\n",
    "# plt.show()\n",
    "\n",
    "display(generated_samples)\n"
   ]
  },
  {
   "cell_type": "code",
   "execution_count": 34,
   "id": "dc964323",
   "metadata": {},
   "outputs": [
    {
     "data": {
      "image/png": "[encoded data removed]",
      "text/plain": [
       "<Figure size 640x480 with 1 Axes>"
      ]
     },
     "metadata": {},
     "output_type": "display_data"
    }
   ],
   "source": [
    "plt.scatter(X_train.iloc[:, 0], X_train.iloc[:, 1], color='blue', alpha=0.5, label='Real Data')\n",
    "plt.scatter(generated_samples[:, 0], generated_samples[:, 1], color='red', alpha=0.5, label='Generated Data')\n",
    "plt.legend()\n",
    "plt.show()"
   ]
  },
  {
   "cell_type": "code",
   "execution_count": null,
   "id": "1eee5c41",
   "metadata": {},
   "outputs": [],
   "source": []
  },
  {
   "cell_type": "code",
   "execution_count": null,
   "id": "854a6ea4",
   "metadata": {},
   "outputs": [],
   "source": []
  },
  {
   "cell_type": "code",
   "execution_count": null,
   "id": "ca56adae",
   "metadata": {},
   "outputs": [],
   "source": []
  }
 ],
 "metadata": {
  "kernelspec": {
   "display_name": "Python 3 (ipykernel)",
   "language": "python",
   "name": "python3"
  },
  "language_info": {
   "codemirror_mode": {
    "name": "ipython",
    "version": 3
   },
   "file_extension": ".py",
   "mimetype": "text/x-python",
   "name": "python",
   "nbconvert_exporter": "python",
   "pygments_lexer": "ipython3",
   "version": "3.11.5"
  }
 },
 "nbformat": 4,
 "nbformat_minor": 5
}
